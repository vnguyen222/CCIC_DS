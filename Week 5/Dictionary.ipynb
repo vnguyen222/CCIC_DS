{
 "cells": [
  {
   "cell_type": "code",
   "execution_count": 10,
   "metadata": {},
   "outputs": [],
   "source": [
    "dow = {\"Sunday\" : [\"church\", \"shopping\", \"cleaning\"],\n",
    "    \"Monday\" : [\"school\", \"study\", \"code\", \"workout arms and chest\"],\n",
    "    \"Tuesday\" : [\"school\", \"study\", \"code\", \"workout back and cardio\"],\n",
    "    \"Wedneday\" : [\"school\", \"study\", \"code\", \"workout shoulders and abs\"],\n",
    "    \"Thursday\" : [\"school\", \"study\", \"code\", \"workout legs and running speed\"],\n",
    "    \"Friday\" : [\"school\", \"hang out with friends\", \"code\", \"workout arms and chest\"],\n",
    "    \"Saturday\" : [\"organization\", \"laundry\", \"home maintenance\"]}"
   ]
  },
  {
   "cell_type": "code",
   "execution_count": 11,
   "metadata": {},
   "outputs": [
    {
     "name": "stdout",
     "output_type": "stream",
     "text": [
      "['organization', 'laundry', 'home maintenance']\n"
     ]
    }
   ],
   "source": [
    "user_input = input(\"Get to do list: \")\n",
    "\n",
    "try:\n",
    "    print(dow[user_input])\n",
    "except KeyError:\n",
    "    print(\"INVALID DAY OF THE WEEK. Make sure first letter is capitalized and spelled correctly\")"
   ]
  }
 ],
 "metadata": {
  "kernelspec": {
   "display_name": "Python 3.10.7 64-bit",
   "language": "python",
   "name": "python3"
  },
  "language_info": {
   "codemirror_mode": {
    "name": "ipython",
    "version": 3
   },
   "file_extension": ".py",
   "mimetype": "text/x-python",
   "name": "python",
   "nbconvert_exporter": "python",
   "pygments_lexer": "ipython3",
   "version": "3.10.7"
  },
  "orig_nbformat": 4,
  "vscode": {
   "interpreter": {
    "hash": "e7370f93d1d0cde622a1f8e1c04877d8463912d04d973331ad4851f04de6915a"
   }
  }
 },
 "nbformat": 4,
 "nbformat_minor": 2
}
