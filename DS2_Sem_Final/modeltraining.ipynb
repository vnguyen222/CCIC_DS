{
 "cells": [
  {
   "cell_type": "code",
   "execution_count": 17,
   "metadata": {},
   "outputs": [],
   "source": [
    "import pandas as pd\n",
    "from sklearn.feature_extraction.text import CountVectorizer\n",
    "from sklearn.model_selection import train_test_split\n",
    "from sklearn.tree import DecisionTreeClassifier\n",
    "from sklearn.svm import SVC\n",
    "from sklearn.svm import LinearSVC\n",
    "import numpy as np\n",
    "from sklearn.metrics import confusion_matrix, ConfusionMatrixDisplay\n",
    "import pickle"
   ]
  },
  {
   "cell_type": "code",
   "execution_count": 2,
   "metadata": {},
   "outputs": [],
   "source": [
    "RAWDATA = pd.read_csv(\"datawithcontent.csv\")"
   ]
  },
  {
   "cell_type": "code",
   "execution_count": 3,
   "metadata": {},
   "outputs": [],
   "source": [
    "RAWDATA.drop(RAWDATA[RAWDATA[\"Language\"] == \"Markdown\"].index, inplace=True)"
   ]
  },
  {
   "cell_type": "code",
   "execution_count": 4,
   "metadata": {},
   "outputs": [
    {
     "data": {
      "text/html": [
       "<div>\n",
       "<style scoped>\n",
       "    .dataframe tbody tr th:only-of-type {\n",
       "        vertical-align: middle;\n",
       "    }\n",
       "\n",
       "    .dataframe tbody tr th {\n",
       "        vertical-align: top;\n",
       "    }\n",
       "\n",
       "    .dataframe thead th {\n",
       "        text-align: right;\n",
       "    }\n",
       "</style>\n",
       "<table border=\"1\" class=\"dataframe\">\n",
       "  <thead>\n",
       "    <tr style=\"text-align: right;\">\n",
       "      <th></th>\n",
       "      <th>Language</th>\n",
       "      <th>Path</th>\n",
       "      <th>Content</th>\n",
       "    </tr>\n",
       "  </thead>\n",
       "  <tbody>\n",
       "    <tr>\n",
       "      <th>33</th>\n",
       "      <td>YAML</td>\n",
       "      <td>C:\\Users\\vincent\\Documents\\TEMP\\finalproj_reso...</td>\n",
       "      <td>sauce_connect: true\\nloopback: airtap.local\\nb...</td>\n",
       "    </tr>\n",
       "    <tr>\n",
       "      <th>34</th>\n",
       "      <td>JSON</td>\n",
       "      <td>C:\\Users\\vincent\\Documents\\TEMP\\finalproj_reso...</td>\n",
       "      <td>{\\n  \"$schema\": \"./node_modules/@angular/cli/l...</td>\n",
       "    </tr>\n",
       "    <tr>\n",
       "      <th>35</th>\n",
       "      <td>JSON</td>\n",
       "      <td>C:\\Users\\vincent\\Documents\\TEMP\\finalproj_reso...</td>\n",
       "      <td>{\\n  \"plugins\": [\\n    \"@babel/plugin-syntax-c...</td>\n",
       "    </tr>\n",
       "    <tr>\n",
       "      <th>36</th>\n",
       "      <td>JavaScript</td>\n",
       "      <td>C:\\Users\\vincent\\Documents\\TEMP\\finalproj_reso...</td>\n",
       "      <td>require('dotenv').config({ path: '../.env' });...</td>\n",
       "    </tr>\n",
       "    <tr>\n",
       "      <th>37</th>\n",
       "      <td>JavaScript</td>\n",
       "      <td>C:\\Users\\vincent\\Documents\\TEMP\\finalproj_reso...</td>\n",
       "      <td>module.exports = {\\n  presets: [\\n    '@babel/...</td>\n",
       "    </tr>\n",
       "  </tbody>\n",
       "</table>\n",
       "</div>"
      ],
      "text/plain": [
       "      Language                                               Path  \\\n",
       "33        YAML  C:\\Users\\vincent\\Documents\\TEMP\\finalproj_reso...   \n",
       "34        JSON  C:\\Users\\vincent\\Documents\\TEMP\\finalproj_reso...   \n",
       "35        JSON  C:\\Users\\vincent\\Documents\\TEMP\\finalproj_reso...   \n",
       "36  JavaScript  C:\\Users\\vincent\\Documents\\TEMP\\finalproj_reso...   \n",
       "37  JavaScript  C:\\Users\\vincent\\Documents\\TEMP\\finalproj_reso...   \n",
       "\n",
       "                                              Content  \n",
       "33  sauce_connect: true\\nloopback: airtap.local\\nb...  \n",
       "34  {\\n  \"$schema\": \"./node_modules/@angular/cli/l...  \n",
       "35  {\\n  \"plugins\": [\\n    \"@babel/plugin-syntax-c...  \n",
       "36  require('dotenv').config({ path: '../.env' });...  \n",
       "37  module.exports = {\\n  presets: [\\n    '@babel/...  "
      ]
     },
     "execution_count": 4,
     "metadata": {},
     "output_type": "execute_result"
    }
   ],
   "source": [
    "RAWDATA.head()"
   ]
  },
  {
   "cell_type": "code",
   "execution_count": 5,
   "metadata": {},
   "outputs": [
    {
     "name": "stdout",
     "output_type": "stream",
     "text": [
      "<class 'pandas.core.frame.DataFrame'>\n",
      "Int64Index: 180407 entries, 33 to 219229\n",
      "Data columns (total 3 columns):\n",
      " #   Column    Non-Null Count   Dtype \n",
      "---  ------    --------------   ----- \n",
      " 0   Language  180407 non-null  object\n",
      " 1   Path      180407 non-null  object\n",
      " 2   Content   180193 non-null  object\n",
      "dtypes: object(3)\n",
      "memory usage: 5.5+ MB\n"
     ]
    }
   ],
   "source": [
    "RAWDATA.info()"
   ]
  },
  {
   "cell_type": "code",
   "execution_count": 6,
   "metadata": {},
   "outputs": [],
   "source": [
    "languages = RAWDATA.Language.unique()\n",
    "languages_distrib = RAWDATA.Language.value_counts()"
   ]
  },
  {
   "cell_type": "code",
   "execution_count": 7,
   "metadata": {},
   "outputs": [],
   "source": [
    "data = RAWDATA.copy()"
   ]
  },
  {
   "cell_type": "code",
   "execution_count": 8,
   "metadata": {},
   "outputs": [],
   "source": [
    "# Change all to JavaScript or Not JavaScript\n",
    "for index, row in data.iterrows():\n",
    "    if not row[\"Language\"] == \"JavaScript\":\n",
    "        data.at[index, \"Language\"] = \"Not JavaScript\""
   ]
  },
  {
   "cell_type": "code",
   "execution_count": 9,
   "metadata": {},
   "outputs": [],
   "source": [
    "data.drop(columns=[\"Path\"], inplace=True)\n",
    "data.dropna(inplace=True)"
   ]
  },
  {
   "cell_type": "code",
   "execution_count": 10,
   "metadata": {},
   "outputs": [
    {
     "data": {
      "text/html": [
       "<div>\n",
       "<style scoped>\n",
       "    .dataframe tbody tr th:only-of-type {\n",
       "        vertical-align: middle;\n",
       "    }\n",
       "\n",
       "    .dataframe tbody tr th {\n",
       "        vertical-align: top;\n",
       "    }\n",
       "\n",
       "    .dataframe thead th {\n",
       "        text-align: right;\n",
       "    }\n",
       "</style>\n",
       "<table border=\"1\" class=\"dataframe\">\n",
       "  <thead>\n",
       "    <tr style=\"text-align: right;\">\n",
       "      <th></th>\n",
       "      <th>Language</th>\n",
       "      <th>Content</th>\n",
       "    </tr>\n",
       "  </thead>\n",
       "  <tbody>\n",
       "    <tr>\n",
       "      <th>33</th>\n",
       "      <td>Not JavaScript</td>\n",
       "      <td>sauce_connect: true\\nloopback: airtap.local\\nb...</td>\n",
       "    </tr>\n",
       "    <tr>\n",
       "      <th>34</th>\n",
       "      <td>Not JavaScript</td>\n",
       "      <td>{\\n  \"$schema\": \"./node_modules/@angular/cli/l...</td>\n",
       "    </tr>\n",
       "    <tr>\n",
       "      <th>35</th>\n",
       "      <td>Not JavaScript</td>\n",
       "      <td>{\\n  \"plugins\": [\\n    \"@babel/plugin-syntax-c...</td>\n",
       "    </tr>\n",
       "    <tr>\n",
       "      <th>36</th>\n",
       "      <td>JavaScript</td>\n",
       "      <td>require('dotenv').config({ path: '../.env' });...</td>\n",
       "    </tr>\n",
       "    <tr>\n",
       "      <th>37</th>\n",
       "      <td>JavaScript</td>\n",
       "      <td>module.exports = {\\n  presets: [\\n    '@babel/...</td>\n",
       "    </tr>\n",
       "    <tr>\n",
       "      <th>...</th>\n",
       "      <td>...</td>\n",
       "      <td>...</td>\n",
       "    </tr>\n",
       "    <tr>\n",
       "      <th>219225</th>\n",
       "      <td>Not JavaScript</td>\n",
       "      <td>#include \"pch.h\"\\n#include \"Settings.h\"\\n\\n#in...</td>\n",
       "    </tr>\n",
       "    <tr>\n",
       "      <th>219226</th>\n",
       "      <td>Not JavaScript</td>\n",
       "      <td>﻿// Copyright (c) Brice Lambson\\n// The Brice ...</td>\n",
       "    </tr>\n",
       "    <tr>\n",
       "      <th>219227</th>\n",
       "      <td>Not JavaScript</td>\n",
       "      <td>#pragma once\\n\\n#include &lt;unordered_set&gt;\\n\\n#i...</td>\n",
       "    </tr>\n",
       "    <tr>\n",
       "      <th>219228</th>\n",
       "      <td>Not JavaScript</td>\n",
       "      <td>/* ###\\n * IP: GHIDRA\\n *\\n * Licensed under t...</td>\n",
       "    </tr>\n",
       "    <tr>\n",
       "      <th>219229</th>\n",
       "      <td>JavaScript</td>\n",
       "      <td>import createSvgIcon from './utils/createSvgIc...</td>\n",
       "    </tr>\n",
       "  </tbody>\n",
       "</table>\n",
       "<p>180193 rows × 2 columns</p>\n",
       "</div>"
      ],
      "text/plain": [
       "              Language                                            Content\n",
       "33      Not JavaScript  sauce_connect: true\\nloopback: airtap.local\\nb...\n",
       "34      Not JavaScript  {\\n  \"$schema\": \"./node_modules/@angular/cli/l...\n",
       "35      Not JavaScript  {\\n  \"plugins\": [\\n    \"@babel/plugin-syntax-c...\n",
       "36          JavaScript  require('dotenv').config({ path: '../.env' });...\n",
       "37          JavaScript  module.exports = {\\n  presets: [\\n    '@babel/...\n",
       "...                ...                                                ...\n",
       "219225  Not JavaScript  #include \"pch.h\"\\n#include \"Settings.h\"\\n\\n#in...\n",
       "219226  Not JavaScript  ﻿// Copyright (c) Brice Lambson\\n// The Brice ...\n",
       "219227  Not JavaScript  #pragma once\\n\\n#include <unordered_set>\\n\\n#i...\n",
       "219228  Not JavaScript  /* ###\\n * IP: GHIDRA\\n *\\n * Licensed under t...\n",
       "219229      JavaScript  import createSvgIcon from './utils/createSvgIc...\n",
       "\n",
       "[180193 rows x 2 columns]"
      ]
     },
     "execution_count": 10,
     "metadata": {},
     "output_type": "execute_result"
    }
   ],
   "source": [
    "data"
   ]
  },
  {
   "cell_type": "code",
   "execution_count": 11,
   "metadata": {},
   "outputs": [],
   "source": [
    "training, testing = train_test_split(data, train_size=0.7) "
   ]
  },
  {
   "cell_type": "code",
   "execution_count": 12,
   "metadata": {},
   "outputs": [
    {
     "data": {
      "text/plain": [
       "Not JavaScript    101388\n",
       "JavaScript         24747\n",
       "Name: Language, dtype: int64"
      ]
     },
     "metadata": {},
     "output_type": "display_data"
    },
    {
     "data": {
      "text/plain": [
       "Not JavaScript    43297\n",
       "JavaScript        10761\n",
       "Name: Language, dtype: int64"
      ]
     },
     "metadata": {},
     "output_type": "display_data"
    }
   ],
   "source": [
    "display(training.Language.value_counts())\n",
    "display(testing.Language.value_counts())"
   ]
  },
  {
   "cell_type": "code",
   "execution_count": 13,
   "metadata": {},
   "outputs": [],
   "source": [
    "X_training, Y_training = training[\"Content\"].to_numpy(), training[\"Language\"].to_numpy()\n",
    "X_testing, Y_testing = testing[\"Content\"].to_numpy(), testing[\"Language\"].to_numpy()"
   ]
  },
  {
   "cell_type": "code",
   "execution_count": 14,
   "metadata": {},
   "outputs": [],
   "source": [
    "np.savetxt(\"raw_X_testing.csv\", X_testing, delimiter=',', fmt='%s', encoding=\"utf-8\")"
   ]
  },
  {
   "cell_type": "code",
   "execution_count": 15,
   "metadata": {},
   "outputs": [
    {
     "data": {
      "text/plain": [
       "54058"
      ]
     },
     "execution_count": 15,
     "metadata": {},
     "output_type": "execute_result"
    }
   ],
   "source": [
    "len(Y_testing)"
   ]
  },
  {
   "cell_type": "code",
   "execution_count": 16,
   "metadata": {},
   "outputs": [],
   "source": [
    "# Vectorize Data\n",
    "vectorize = CountVectorizer()\n",
    "\n",
    "X_training = vectorize.fit_transform(X_training)\n",
    "X_testing = vectorize.transform(X_testing)"
   ]
  },
  {
   "attachments": {},
   "cell_type": "markdown",
   "metadata": {},
   "source": [
    "---\n",
    "# Decision Tree Classifier"
   ]
  },
  {
   "cell_type": "code",
   "execution_count": 24,
   "metadata": {},
   "outputs": [],
   "source": [
    "# Decision Tree Classifier\n",
    "decision_tree_model = DecisionTreeClassifier().fit(X_training, Y_training)"
   ]
  },
  {
   "cell_type": "code",
   "execution_count": 25,
   "metadata": {},
   "outputs": [],
   "source": [
    "Y_predicted = decision_tree_model.predict(X_testing)"
   ]
  },
  {
   "cell_type": "code",
   "execution_count": 26,
   "metadata": {},
   "outputs": [
    {
     "data": {
      "text/plain": [
       "array(['Not JavaScript', 'Not JavaScript', 'JavaScript', ...,\n",
       "       'Not JavaScript', 'Not JavaScript', 'Not JavaScript'], dtype=object)"
      ]
     },
     "execution_count": 26,
     "metadata": {},
     "output_type": "execute_result"
    }
   ],
   "source": [
    "Y_predicted"
   ]
  },
  {
   "cell_type": "code",
   "execution_count": 27,
   "metadata": {},
   "outputs": [],
   "source": [
    "decision_tree_confusion_matrix = confusion_matrix(Y_testing, Y_predicted)"
   ]
  },
  {
   "cell_type": "code",
   "execution_count": 28,
   "metadata": {},
   "outputs": [
    {
     "data": {
      "text/plain": [
       "<sklearn.metrics._plot.confusion_matrix.ConfusionMatrixDisplay at 0x2624baf5600>"
      ]
     },
     "execution_count": 28,
     "metadata": {},
     "output_type": "execute_result"
    },
    {
     "data": {
      "image/png": "[encoded data removed]",
      "text/plain": [
       "<Figure size 640x480 with 2 Axes>"
      ]
     },
     "metadata": {},
     "output_type": "display_data"
    }
   ],
   "source": [
    "ConfusionMatrixDisplay(confusion_matrix=decision_tree_confusion_matrix, display_labels=[\"Not JavaScript\", \"JavaScript\"]).plot()"
   ]
  },
  {
   "cell_type": "code",
   "execution_count": 29,
   "metadata": {},
   "outputs": [
    {
     "name": "stdout",
     "output_type": "stream",
     "text": [
      "The accuracy of the Decision Tree model is 0.9846646194827777\n"
     ]
    }
   ],
   "source": [
    "# Get correct percentage\n",
    "num_incorrect = 0\n",
    "\n",
    "for i in range(0, len(Y_testing)):\n",
    "    if Y_predicted[i] != Y_testing[i]:\n",
    "        num_incorrect += 1\n",
    "    # print(Y_testing[i])\n",
    "\n",
    "percent_accuracy = 1 - (num_incorrect / len(Y_testing))\n",
    "print(f\"The accuracy of the Decision Tree model is {percent_accuracy}\")"
   ]
  },
  {
   "cell_type": "code",
   "execution_count": null,
   "metadata": {},
   "outputs": [],
   "source": [
    "pickle.dump(decision_tree_model, open(\"decisiontreeclassifier.pkl\", \"wb\"))"
   ]
  },
  {
   "attachments": {},
   "cell_type": "markdown",
   "metadata": {},
   "source": [
    "---\n",
    "# Support Vector Machine"
   ]
  },
  {
   "cell_type": "code",
   "execution_count": 18,
   "metadata": {},
   "outputs": [
    {
     "name": "stderr",
     "output_type": "stream",
     "text": [
      "c:\\Users\\vincent\\Documents\\dsvenv\\lib\\site-packages\\sklearn\\svm\\_base.py:1244: ConvergenceWarning: Liblinear failed to converge, increase the number of iterations.\n",
      "  warnings.warn(\n"
     ]
    }
   ],
   "source": [
    "# Support Vector Machine model\n",
    "svm_model = LinearSVC().fit(X_training, Y_training)"
   ]
  },
  {
   "cell_type": "code",
   "execution_count": 19,
   "metadata": {},
   "outputs": [],
   "source": [
    "Y_predicted = svm_model.predict(X_testing)"
   ]
  },
  {
   "cell_type": "code",
   "execution_count": 20,
   "metadata": {},
   "outputs": [],
   "source": [
    "svm_model_confusion_matrix = confusion_matrix(Y_testing, Y_predicted)"
   ]
  },
  {
   "cell_type": "code",
   "execution_count": 21,
   "metadata": {},
   "outputs": [
    {
     "data": {
      "text/plain": [
       "<sklearn.metrics._plot.confusion_matrix.ConfusionMatrixDisplay at 0x261a57b19c0>"
      ]
     },
     "execution_count": 21,
     "metadata": {},
     "output_type": "execute_result"
    },
    {
     "data": {
      "image/png": "[encoded data removed]",
      "text/plain": [
       "<Figure size 640x480 with 2 Axes>"
      ]
     },
     "metadata": {},
     "output_type": "display_data"
    }
   ],
   "source": [
    "ConfusionMatrixDisplay(confusion_matrix=svm_model_confusion_matrix, display_labels=[\"Not JavaScript\", \"JavaScript\"]).plot()"
   ]
  },
  {
   "cell_type": "code",
   "execution_count": 22,
   "metadata": {},
   "outputs": [
    {
     "name": "stdout",
     "output_type": "stream",
     "text": [
      "The accuracy of the Decision Tree model is 0.9780791002256836\n"
     ]
    }
   ],
   "source": [
    "# Get correct percentage\n",
    "num_incorrect = 0\n",
    "\n",
    "for i in range(0, len(Y_testing)):\n",
    "    if Y_predicted[i] != Y_testing[i]:\n",
    "        num_incorrect += 1\n",
    "    # print(Y_testing[i])\n",
    "\n",
    "percent_accuracy = 1 - (num_incorrect / len(Y_testing))\n",
    "print(f\"The accuracy of the Decision Tree model is {percent_accuracy}\")"
   ]
  },
  {
   "cell_type": "code",
   "execution_count": 23,
   "metadata": {},
   "outputs": [],
   "source": [
    "pickle.dump(svm_model_confusion_matrix, open(\"linearsvm.pkl\", \"wb\"))"
   ]
  },
  {
   "attachments": {},
   "cell_type": "markdown",
   "metadata": {},
   "source": [
    "---\n",
    "# Model Testing"
   ]
  },
  {
   "cell_type": "code",
   "execution_count": 43,
   "metadata": {},
   "outputs": [],
   "source": [
    "# Read files\n",
    "testcase1 = open(\"testcase1.js\", \"r\").read()\n",
    "testcase2 = open(\"testcase2.md\", \"r\", encoding=\"utf-8\").read()\n",
    "testcase3 = open(\"testcase3.js\", \"r\").read()\n",
    "testcase4 = open(\"testcase4.cpp\", \"r\").read()\n",
    "\n",
    "testcases = np.array([testcase1, testcase2, testcase3, testcase4])"
   ]
  },
  {
   "cell_type": "code",
   "execution_count": 38,
   "metadata": {},
   "outputs": [],
   "source": [
    "X_testcases = vectorize.transform(testcases)\n",
    "Y_testcases = np.array(['JavaScript', 'Not JavaScript', 'JavaScript', 'Not JavaScript'])"
   ]
  },
  {
   "cell_type": "code",
   "execution_count": 40,
   "metadata": {},
   "outputs": [
    {
     "data": {
      "text/plain": [
       "array(['Not JavaScript', 'Not JavaScript', 'Not JavaScript',\n",
       "       'Not JavaScript'], dtype=object)"
      ]
     },
     "metadata": {},
     "output_type": "display_data"
    },
    {
     "data": {
      "text/plain": [
       "array(['JavaScript', 'Not JavaScript', 'JavaScript', 'Not JavaScript'],\n",
       "      dtype='<U14')"
      ]
     },
     "metadata": {},
     "output_type": "display_data"
    }
   ],
   "source": [
    "testcase_decisiontree_predict = decision_tree_model.predict(X_testcases)\n",
    "display(testcase_decisiontree_predict)\n",
    "display(Y_testcases)"
   ]
  },
  {
   "cell_type": "code",
   "execution_count": 41,
   "metadata": {},
   "outputs": [
    {
     "data": {
      "text/plain": [
       "array(['Not JavaScript', 'Not JavaScript', 'Not JavaScript',\n",
       "       'Not JavaScript'], dtype=object)"
      ]
     },
     "metadata": {},
     "output_type": "display_data"
    },
    {
     "data": {
      "text/plain": [
       "array(['JavaScript', 'Not JavaScript', 'JavaScript', 'Not JavaScript'],\n",
       "      dtype='<U14')"
      ]
     },
     "metadata": {},
     "output_type": "display_data"
    }
   ],
   "source": [
    "testcase_svm_predict = svm_model.predict(X_testcases)\n",
    "display(testcase_decisiontree_predict)\n",
    "display(Y_testcases)"
   ]
  }
 ],
 "metadata": {
  "kernelspec": {
   "display_name": "dsvenv",
   "language": "python",
   "name": "python3"
  },
  "language_info": {
   "codemirror_mode": {
    "name": "ipython",
    "version": 3
   },
   "file_extension": ".py",
   "mimetype": "text/x-python",
   "name": "python",
   "nbconvert_exporter": "python",
   "pygments_lexer": "ipython3",
   "version": "3.10.10"
  },
  "orig_nbformat": 4
 },
 "nbformat": 4,
 "nbformat_minor": 2
}
