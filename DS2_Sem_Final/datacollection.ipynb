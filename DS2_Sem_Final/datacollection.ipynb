{
 "cells": [
  {
   "cell_type": "code",
   "execution_count": 1,
   "metadata": {},
   "outputs": [],
   "source": [
    "import os"
   ]
  },
  {
   "cell_type": "code",
   "execution_count": 2,
   "metadata": {},
   "outputs": [],
   "source": [
    "REPO_FOLDER = r\"C:\\Users\\vincent\\Documents\\TEMP\\finalproj_resources\\CLEANREPOS\""
   ]
  },
  {
   "cell_type": "code",
   "execution_count": 3,
   "metadata": {},
   "outputs": [
    {
     "name": "stdout",
     "output_type": "stream",
     "text": [
      "34\n"
     ]
    },
    {
     "data": {
      "text/plain": [
       "['https://github.com/torvalds/linux.git',\n",
       " 'https://github.com/git/git.git',\n",
       " 'https://github.com/qemu/qemu.git',\n",
       " 'https://github.com/tensorflow/tensorflow.git',\n",
       " 'https://github.com/microsoft/terminal.git',\n",
       " 'https://github.com/electron/electron.git',\n",
       " 'https://github.com/MariaDB/server.git',\n",
       " 'https://github.com/microsoft/PowerToys.git',\n",
       " 'https://github.com/files-community/Files.git',\n",
       " 'https://github.com/dotnet/winforms.git',\n",
       " 'https://github.com/git-ecosystem/git-credential-manager.git',\n",
       " 'https://github.com/NationalSecurityAgency/ghidra.git',\n",
       " 'https://github.com/spring-projects/spring-framework.git',\n",
       " 'https://github.com/spring-projects/spring-boot.git',\n",
       " 'https://github.com/square/retrofit.git',\n",
       " 'https://github.com/kubernetes/kubernetes.git',\n",
       " 'https://github.com/vuejs/vue.git',\n",
       " 'https://github.com/microsoft/vscode.git',\n",
       " 'https://github.com/angular/angular.git',\n",
       " 'https://github.com/facebook/react.git',\n",
       " 'https://github.com/trekhleb/javascript-algorithms.git',\n",
       " 'https://github.com/twbs/bootstrap.git',\n",
       " 'https://github.com/nodejs/node.git',\n",
       " 'https://github.com/airbnb/javascript.git',\n",
       " 'https://github.com/facebook/react-native.git',\n",
       " 'https://github.com/mui/material-ui.git',\n",
       " 'https://github.com/freeCodeCamp/freeCodeCamp.git',\n",
       " 'https://github.com/donnemartin/system-design-primer.git',\n",
       " 'https://github.com/vinta/awesome-python.git',\n",
       " 'https://github.com/TheAlgorithms/Python.git',\n",
       " 'https://github.com/pallets/flask.git',\n",
       " 'https://github.com/django/django.git',\n",
       " 'https://github.com/flutter/flutter.git',\n",
       " 'https://github.com/ohmyzsh/ohmyzsh.git']"
      ]
     },
     "execution_count": 3,
     "metadata": {},
     "output_type": "execute_result"
    }
   ],
   "source": [
    "# GET LIST OF ALL REPOSITORIES TO PULL FROM\n",
    "REPO_LINKS = []\n",
    "\n",
    "with open(\"repolist.txt\") as repolist:\n",
    "    for line in repolist:\n",
    "        if line[0] == \"#\":\n",
    "            continue\n",
    "        if line[0:4] == \"http\":\n",
    "            REPO_LINKS.append(line.replace(\"\\n\", \"\"))\n",
    "\n",
    "print(len(REPO_LINKS))\n",
    "REPO_LINKS"
   ]
  },
  {
   "cell_type": "code",
   "execution_count": 9,
   "metadata": {},
   "outputs": [],
   "source": [
    "# PULL FROM ALL REPOS\n",
    "\n",
    "os.chdir(REPO_FOLDER)\n",
    "\n",
    "for repo in REPO_LINKS:\n",
    "    os.system(f\"start /wait cmd /c git clone {repo}\")"
   ]
  }
 ],
 "metadata": {
  "kernelspec": {
   "display_name": "dsvenv",
   "language": "python",
   "name": "python3"
  },
  "language_info": {
   "codemirror_mode": {
    "name": "ipython",
    "version": 3
   },
   "file_extension": ".py",
   "mimetype": "text/x-python",
   "name": "python",
   "nbconvert_exporter": "python",
   "pygments_lexer": "ipython3",
   "version": "3.10.10"
  },
  "orig_nbformat": 4
 },
 "nbformat": 4,
 "nbformat_minor": 2
}
