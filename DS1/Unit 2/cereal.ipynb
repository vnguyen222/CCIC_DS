{
 "cells": [
  {
   "cell_type": "code",
   "execution_count": 12,
   "metadata": {},
   "outputs": [],
   "source": [
    "import pandas as pd\n",
    "import seaborn as sns\n",
    "\n",
    "csv = pd.read_csv(r\"cereal.csv\")"
   ]
  },
  {
   "cell_type": "code",
   "execution_count": 13,
   "metadata": {},
   "outputs": [
    {
     "name": "stdout",
     "output_type": "stream",
     "text": [
      "     name    mfr   type  calories  protein    fat  sodium  fiber  carbo  \\\n",
      "0   False  False  False     False    False  False   False  False  False   \n",
      "1   False  False  False     False    False  False   False  False  False   \n",
      "2   False  False  False     False    False  False   False  False  False   \n",
      "3   False  False  False     False    False  False   False  False  False   \n",
      "4   False  False  False     False    False  False   False  False  False   \n",
      "..    ...    ...    ...       ...      ...    ...     ...    ...    ...   \n",
      "72  False  False  False     False    False  False   False  False  False   \n",
      "73  False  False  False     False    False  False   False  False  False   \n",
      "74  False  False  False     False    False  False   False  False  False   \n",
      "75  False  False  False     False    False  False   False  False  False   \n",
      "76  False  False  False     False    False  False   False  False  False   \n",
      "\n",
      "    sugars  potass  vitamins  shelf  weight   cups  rating  \n",
      "0    False   False     False  False   False  False   False  \n",
      "1    False   False     False  False   False  False   False  \n",
      "2    False   False     False  False   False  False   False  \n",
      "3    False   False     False  False   False  False   False  \n",
      "4    False   False     False  False   False  False   False  \n",
      "..     ...     ...       ...    ...     ...    ...     ...  \n",
      "72   False   False     False  False   False  False   False  \n",
      "73   False   False     False  False   False  False   False  \n",
      "74   False   False     False  False   False  False   False  \n",
      "75   False   False     False  False   False  False   False  \n",
      "76   False   False     False  False   False  False   False  \n",
      "\n",
      "[77 rows x 16 columns]\n"
     ]
    },
    {
     "data": {
      "text/plain": [
       "False"
      ]
     },
     "execution_count": 13,
     "metadata": {},
     "output_type": "execute_result"
    }
   ],
   "source": [
    "print(csv.isnull())\n",
    "csv.isnull().values.any()"
   ]
  },
  {
   "cell_type": "code",
   "execution_count": 14,
   "metadata": {},
   "outputs": [],
   "source": [
    "csv = csv.dropna(how=\"all\")"
   ]
  },
  {
   "cell_type": "code",
   "execution_count": 15,
   "metadata": {},
   "outputs": [
    {
     "data": {
      "text/html": [
       "<div>\n",
       "<style scoped>\n",
       "    .dataframe tbody tr th:only-of-type {\n",
       "        vertical-align: middle;\n",
       "    }\n",
       "\n",
       "    .dataframe tbody tr th {\n",
       "        vertical-align: top;\n",
       "    }\n",
       "\n",
       "    .dataframe thead th {\n",
       "        text-align: right;\n",
       "    }\n",
       "</style>\n",
       "<table border=\"1\" class=\"dataframe\">\n",
       "  <thead>\n",
       "    <tr style=\"text-align: right;\">\n",
       "      <th></th>\n",
       "      <th>name</th>\n",
       "      <th>mfr</th>\n",
       "      <th>type</th>\n",
       "      <th>calories</th>\n",
       "      <th>protein</th>\n",
       "      <th>fat</th>\n",
       "      <th>sodium</th>\n",
       "      <th>fiber</th>\n",
       "      <th>carbo</th>\n",
       "      <th>sugars</th>\n",
       "      <th>potass</th>\n",
       "      <th>vitamins</th>\n",
       "      <th>shelf</th>\n",
       "      <th>weight</th>\n",
       "      <th>cups</th>\n",
       "      <th>rating</th>\n",
       "    </tr>\n",
       "  </thead>\n",
       "  <tbody>\n",
       "    <tr>\n",
       "      <th>0</th>\n",
       "      <td>100% Bran</td>\n",
       "      <td>N</td>\n",
       "      <td>C</td>\n",
       "      <td>70</td>\n",
       "      <td>4</td>\n",
       "      <td>1</td>\n",
       "      <td>130</td>\n",
       "      <td>10.0</td>\n",
       "      <td>5.0</td>\n",
       "      <td>6</td>\n",
       "      <td>280</td>\n",
       "      <td>25</td>\n",
       "      <td>3</td>\n",
       "      <td>1.0</td>\n",
       "      <td>0.33</td>\n",
       "      <td>68.402973</td>\n",
       "    </tr>\n",
       "    <tr>\n",
       "      <th>1</th>\n",
       "      <td>100% Natural Bran</td>\n",
       "      <td>Q</td>\n",
       "      <td>C</td>\n",
       "      <td>120</td>\n",
       "      <td>3</td>\n",
       "      <td>5</td>\n",
       "      <td>15</td>\n",
       "      <td>2.0</td>\n",
       "      <td>8.0</td>\n",
       "      <td>8</td>\n",
       "      <td>135</td>\n",
       "      <td>0</td>\n",
       "      <td>3</td>\n",
       "      <td>1.0</td>\n",
       "      <td>1.00</td>\n",
       "      <td>33.983679</td>\n",
       "    </tr>\n",
       "    <tr>\n",
       "      <th>2</th>\n",
       "      <td>All-Bran</td>\n",
       "      <td>K</td>\n",
       "      <td>C</td>\n",
       "      <td>70</td>\n",
       "      <td>4</td>\n",
       "      <td>1</td>\n",
       "      <td>260</td>\n",
       "      <td>9.0</td>\n",
       "      <td>7.0</td>\n",
       "      <td>5</td>\n",
       "      <td>320</td>\n",
       "      <td>25</td>\n",
       "      <td>3</td>\n",
       "      <td>1.0</td>\n",
       "      <td>0.33</td>\n",
       "      <td>59.425505</td>\n",
       "    </tr>\n",
       "    <tr>\n",
       "      <th>3</th>\n",
       "      <td>All-Bran with Extra Fiber</td>\n",
       "      <td>K</td>\n",
       "      <td>C</td>\n",
       "      <td>50</td>\n",
       "      <td>4</td>\n",
       "      <td>0</td>\n",
       "      <td>140</td>\n",
       "      <td>14.0</td>\n",
       "      <td>8.0</td>\n",
       "      <td>0</td>\n",
       "      <td>330</td>\n",
       "      <td>25</td>\n",
       "      <td>3</td>\n",
       "      <td>1.0</td>\n",
       "      <td>0.50</td>\n",
       "      <td>93.704912</td>\n",
       "    </tr>\n",
       "    <tr>\n",
       "      <th>4</th>\n",
       "      <td>Almond Delight</td>\n",
       "      <td>R</td>\n",
       "      <td>C</td>\n",
       "      <td>110</td>\n",
       "      <td>2</td>\n",
       "      <td>2</td>\n",
       "      <td>200</td>\n",
       "      <td>1.0</td>\n",
       "      <td>14.0</td>\n",
       "      <td>8</td>\n",
       "      <td>-1</td>\n",
       "      <td>25</td>\n",
       "      <td>3</td>\n",
       "      <td>1.0</td>\n",
       "      <td>0.75</td>\n",
       "      <td>34.384843</td>\n",
       "    </tr>\n",
       "  </tbody>\n",
       "</table>\n",
       "</div>"
      ],
      "text/plain": [
       "                        name mfr type  calories  protein  fat  sodium  fiber  \\\n",
       "0                  100% Bran   N    C        70        4    1     130   10.0   \n",
       "1          100% Natural Bran   Q    C       120        3    5      15    2.0   \n",
       "2                   All-Bran   K    C        70        4    1     260    9.0   \n",
       "3  All-Bran with Extra Fiber   K    C        50        4    0     140   14.0   \n",
       "4             Almond Delight   R    C       110        2    2     200    1.0   \n",
       "\n",
       "   carbo  sugars  potass  vitamins  shelf  weight  cups     rating  \n",
       "0    5.0       6     280        25      3     1.0  0.33  68.402973  \n",
       "1    8.0       8     135         0      3     1.0  1.00  33.983679  \n",
       "2    7.0       5     320        25      3     1.0  0.33  59.425505  \n",
       "3    8.0       0     330        25      3     1.0  0.50  93.704912  \n",
       "4   14.0       8      -1        25      3     1.0  0.75  34.384843  "
      ]
     },
     "execution_count": 15,
     "metadata": {},
     "output_type": "execute_result"
    }
   ],
   "source": [
    "csv.head()"
   ]
  },
  {
   "cell_type": "code",
   "execution_count": 16,
   "metadata": {},
   "outputs": [
    {
     "data": {
      "text/html": [
       "<div>\n",
       "<style scoped>\n",
       "    .dataframe tbody tr th:only-of-type {\n",
       "        vertical-align: middle;\n",
       "    }\n",
       "\n",
       "    .dataframe tbody tr th {\n",
       "        vertical-align: top;\n",
       "    }\n",
       "\n",
       "    .dataframe thead th {\n",
       "        text-align: right;\n",
       "    }\n",
       "</style>\n",
       "<table border=\"1\" class=\"dataframe\">\n",
       "  <thead>\n",
       "    <tr style=\"text-align: right;\">\n",
       "      <th></th>\n",
       "      <th>name</th>\n",
       "      <th>sugars</th>\n",
       "      <th>rating</th>\n",
       "    </tr>\n",
       "  </thead>\n",
       "  <tbody>\n",
       "    <tr>\n",
       "      <th>0</th>\n",
       "      <td>100% Bran</td>\n",
       "      <td>6</td>\n",
       "      <td>68.402973</td>\n",
       "    </tr>\n",
       "    <tr>\n",
       "      <th>1</th>\n",
       "      <td>100% Natural Bran</td>\n",
       "      <td>8</td>\n",
       "      <td>33.983679</td>\n",
       "    </tr>\n",
       "    <tr>\n",
       "      <th>2</th>\n",
       "      <td>All-Bran</td>\n",
       "      <td>5</td>\n",
       "      <td>59.425505</td>\n",
       "    </tr>\n",
       "    <tr>\n",
       "      <th>3</th>\n",
       "      <td>All-Bran with Extra Fiber</td>\n",
       "      <td>0</td>\n",
       "      <td>93.704912</td>\n",
       "    </tr>\n",
       "    <tr>\n",
       "      <th>4</th>\n",
       "      <td>Almond Delight</td>\n",
       "      <td>8</td>\n",
       "      <td>34.384843</td>\n",
       "    </tr>\n",
       "  </tbody>\n",
       "</table>\n",
       "</div>"
      ],
      "text/plain": [
       "                        name  sugars     rating\n",
       "0                  100% Bran       6  68.402973\n",
       "1          100% Natural Bran       8  33.983679\n",
       "2                   All-Bran       5  59.425505\n",
       "3  All-Bran with Extra Fiber       0  93.704912\n",
       "4             Almond Delight       8  34.384843"
      ]
     },
     "execution_count": 16,
     "metadata": {},
     "output_type": "execute_result"
    }
   ],
   "source": [
    "csv.drop([\"mfr\", \"type\", \"calories\", \"protein\", \"fat\", \"sodium\", \"fiber\", \"carbo\", \"potass\", \"vitamins\", \"shelf\", \"weight\", \"cups\"], axis=1, inplace=True)\n",
    "csv.head()"
   ]
  },
  {
   "cell_type": "code",
   "execution_count": 17,
   "metadata": {},
   "outputs": [
    {
     "name": "stdout",
     "output_type": "stream",
     "text": [
      "6.922077922077922 7.0\n",
      "0    3\n",
      "dtype: int64\n",
      "-1 15\n"
     ]
    }
   ],
   "source": [
    "sugar_mean = csv[\"sugars\"].mean()\n",
    "sugar_median = csv[\"sugars\"].median()\n",
    "sugar_mode = csv[\"sugars\"].mode()\n",
    "\n",
    "print(sugar_mean, sugar_median)\n",
    "print(sugar_mode)\n",
    "\n",
    "\n",
    "sugar_min = csv[\"sugars\"].min()\n",
    "sugar_max = csv[\"sugars\"].max()\n",
    "\n",
    "print(sugar_min, sugar_max)"
   ]
  },
  {
   "cell_type": "code",
   "execution_count": 18,
   "metadata": {},
   "outputs": [
    {
     "name": "stdout",
     "output_type": "stream",
     "text": [
      "                                      name  sugars     rating\n",
      "0                                100% Bran       6  68.402973\n",
      "1                        100% Natural Bran       8  33.983679\n",
      "2                                 All-Bran       5  59.425505\n",
      "3                All-Bran with Extra Fiber       0  93.704912\n",
      "4                           Almond Delight       8  34.384843\n",
      "5                  Apple Cinnamon Cheerios      10  29.509541\n",
      "6                              Apple Jacks      14  33.174094\n",
      "7                                  Basic 4       8  37.038562\n",
      "8                                Bran Chex       6  49.120253\n",
      "9                              Bran Flakes       5  53.313813\n",
      "10                            Cap'n'Crunch      12  18.042851\n",
      "11                                Cheerios       1  50.764999\n",
      "12                   Cinnamon Toast Crunch       9  19.823573\n",
      "13                                Clusters       7  40.400208\n",
      "14                             Cocoa Puffs      13  22.736446\n",
      "15                               Corn Chex       3  41.445019\n",
      "16                             Corn Flakes       2  45.863324\n",
      "17                               Corn Pops      12  35.782791\n",
      "18                           Count Chocula      13  22.396513\n",
      "19                      Cracklin' Oat Bran       7  40.448772\n",
      "20                  Cream of Wheat (Quick)       0  64.533816\n",
      "21                                 Crispix       3  46.895644\n",
      "22                  Crispy Wheat & Raisins      10  36.176196\n",
      "23                             Double Chex       5  44.330856\n",
      "24                             Froot Loops      13  32.207582\n",
      "25                          Frosted Flakes      11  31.435973\n",
      "26                     Frosted Mini-Wheats       7  58.345141\n",
      "27  Fruit & Fibre Dates; Walnuts; and Oats      10  40.917047\n",
      "28                           Fruitful Bran      12  41.015492\n",
      "29                          Fruity Pebbles      12  28.025765\n",
      "30                            Golden Crisp      15  35.252444\n",
      "31                          Golden Grahams       9  23.804043\n",
      "32                       Grape Nuts Flakes       5  52.076897\n",
      "33                              Grape-Nuts       3  53.371007\n",
      "34                      Great Grains Pecan       4  45.811716\n",
      "35                        Honey Graham Ohs      11  21.871292\n",
      "36                      Honey Nut Cheerios      10  31.072217\n",
      "37                              Honey-comb      11  28.742414\n",
      "38             Just Right Crunchy  Nuggets       6  36.523683\n",
      "39                  Just Right Fruit & Nut       9  36.471512\n",
      "40                                     Kix       3  39.241114\n",
      "41                                    Life       6  45.328074\n",
      "42                            Lucky Charms      12  26.734515\n",
      "43                                   Maypo       3  54.850917\n",
      "44        Muesli Raisins; Dates; & Almonds      11  37.136863\n",
      "45       Muesli Raisins; Peaches; & Pecans      11  34.139765\n",
      "46                    Mueslix Crispy Blend      13  30.313351\n",
      "47                    Multi-Grain Cheerios       6  40.105965\n",
      "48                        Nut&Honey Crunch       9  29.924285\n",
      "49               Nutri-Grain Almond-Raisin       7  40.692320\n",
      "50                       Nutri-grain Wheat       2  59.642837\n",
      "51                    Oatmeal Raisin Crisp      10  30.450843\n",
      "52                   Post Nat. Raisin Bran      14  37.840594\n",
      "53                              Product 19       3  41.503540\n",
      "54                             Puffed Rice       0  60.756112\n",
      "55                            Puffed Wheat       0  63.005645\n",
      "56                      Quaker Oat Squares       6  49.511874\n",
      "58                             Raisin Bran      12  39.259197\n",
      "59                         Raisin Nut Bran       8  39.703400\n",
      "60                          Raisin Squares       6  55.333142\n",
      "61                               Rice Chex       2  41.998933\n",
      "62                           Rice Krispies       3  40.560159\n",
      "63                          Shredded Wheat       0  68.235885\n",
      "64                  Shredded Wheat 'n'Bran       0  74.472949\n",
      "65               Shredded Wheat spoon size       0  72.801787\n",
      "66                                  Smacks      15  31.230054\n",
      "67                               Special K       3  53.131324\n",
      "68                 Strawberry Fruit Wheats       5  59.363993\n",
      "69                       Total Corn Flakes       3  38.839746\n",
      "70                       Total Raisin Bran      14  28.592785\n",
      "71                       Total Whole Grain       3  46.658844\n",
      "72                                 Triples       3  39.106174\n",
      "73                                    Trix      12  27.753301\n",
      "74                              Wheat Chex       3  49.787445\n",
      "75                                Wheaties       3  51.592193\n",
      "76                     Wheaties Honey Gold       8  36.187559\n"
     ]
    }
   ],
   "source": [
    "csv.drop(csv.loc[csv[\"sugars\"] < 0].index, inplace=True)\n",
    "print(csv.to_string())"
   ]
  },
  {
   "cell_type": "code",
   "execution_count": null,
   "metadata": {},
   "outputs": [],
   "source": [
    "print(type(csv.at[0,\"rating\"]))"
   ]
  },
  {
   "cell_type": "code",
   "execution_count": 19,
   "metadata": {},
   "outputs": [
    {
     "name": "stdout",
     "output_type": "stream",
     "text": [
      "<class 'numpy.int64'>\n"
     ]
    }
   ],
   "source": [
    "print(type(csv.at[0, \"sugars\"]))"
   ]
  },
  {
   "cell_type": "code",
   "execution_count": 20,
   "metadata": {},
   "outputs": [
    {
     "data": {
      "text/plain": [
       "<AxesSubplot:xlabel='sugars', ylabel='rating'>"
      ]
     },
     "execution_count": 20,
     "metadata": {},
     "output_type": "execute_result"
    },
    {
     "data": {
      "image/png": "[encoded data removed]",
      "text/plain": [
       "<Figure size 640x480 with 1 Axes>"
      ]
     },
     "metadata": {},
     "output_type": "display_data"
    }
   ],
   "source": [
    "# print(type(csv[\"sugars\"].tolist()))\n",
    "sns.regplot(data=csv, x=\"sugars\", y=\"rating\")"
   ]
  },
  {
   "cell_type": "code",
   "execution_count": 21,
   "metadata": {},
   "outputs": [
    {
     "data": {
      "text/html": [
       "<div>\n",
       "<style scoped>\n",
       "    .dataframe tbody tr th:only-of-type {\n",
       "        vertical-align: middle;\n",
       "    }\n",
       "\n",
       "    .dataframe tbody tr th {\n",
       "        vertical-align: top;\n",
       "    }\n",
       "\n",
       "    .dataframe thead th {\n",
       "        text-align: right;\n",
       "    }\n",
       "</style>\n",
       "<table border=\"1\" class=\"dataframe\">\n",
       "  <thead>\n",
       "    <tr style=\"text-align: right;\">\n",
       "      <th></th>\n",
       "      <th>sugars</th>\n",
       "      <th>rating</th>\n",
       "    </tr>\n",
       "  </thead>\n",
       "  <tbody>\n",
       "    <tr>\n",
       "      <th>sugars</th>\n",
       "      <td>1.000000</td>\n",
       "      <td>-0.763902</td>\n",
       "    </tr>\n",
       "    <tr>\n",
       "      <th>rating</th>\n",
       "      <td>-0.763902</td>\n",
       "      <td>1.000000</td>\n",
       "    </tr>\n",
       "  </tbody>\n",
       "</table>\n",
       "</div>"
      ],
      "text/plain": [
       "          sugars    rating\n",
       "sugars  1.000000 -0.763902\n",
       "rating -0.763902  1.000000"
      ]
     },
     "execution_count": 21,
     "metadata": {},
     "output_type": "execute_result"
    }
   ],
   "source": [
    "csv.corr(method=\"pearson\")"
   ]
  }
 ],
 "metadata": {
  "kernelspec": {
   "display_name": "Python 3.10.8 64-bit",
   "language": "python",
   "name": "python3"
  },
  "language_info": {
   "codemirror_mode": {
    "name": "ipython",
    "version": 3
   },
   "file_extension": ".py",
   "mimetype": "text/x-python",
   "name": "python",
   "nbconvert_exporter": "python",
   "pygments_lexer": "ipython3",
   "version": "3.10.8"
  },
  "orig_nbformat": 4,
  "vscode": {
   "interpreter": {
    "hash": "e7370f93d1d0cde622a1f8e1c04877d8463912d04d973331ad4851f04de6915a"
   }
  }
 },
 "nbformat": 4,
 "nbformat_minor": 2
}
