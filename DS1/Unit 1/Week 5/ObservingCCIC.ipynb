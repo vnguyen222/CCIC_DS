{
 "cells": [
  {
   "cell_type": "code",
   "execution_count": 3,
   "metadata": {},
   "outputs": [
    {
     "name": "stdout",
     "output_type": "stream",
     "text": [
      "Day 1\n",
      "PERSONAL Laptop: 4\n",
      "SCHOOL Laptop: 12\n",
      "Total Students: 16\n",
      "Utilization Percentage: 0.75\n",
      "\n",
      "Day 2\n",
      "PERSONAL Laptop: 5\n",
      "SCHOOL Laptop: 13\n",
      "Total Students: 18\n",
      "Utilization Percentage: 0.7222222222222222\n",
      "\n"
     ]
    }
   ],
   "source": [
    "data = [ [4,12], [5, 13] ]\n",
    "\n",
    "for day in range(0, len(data)):\n",
    "    total = data[day][0]+data[day][1]\n",
    "\n",
    "    print(\"Day\", day+1)\n",
    "    print(\"PERSONAL Laptop:\", data[day][0])\n",
    "    print(\"SCHOOL Laptop:\", data[day][1])\n",
    "    print(\"Total Students:\", total)\n",
    "    print(\"Utilization Percentage:\", data[day][1]/total)\n",
    "    print()"
   ]
  }
 ],
 "metadata": {
  "kernelspec": {
   "display_name": "Python 3.10.5 64-bit",
   "language": "python",
   "name": "python3"
  },
  "language_info": {
   "codemirror_mode": {
    "name": "ipython",
    "version": 3
   },
   "file_extension": ".py",
   "mimetype": "text/x-python",
   "name": "python",
   "nbconvert_exporter": "python",
   "pygments_lexer": "ipython3",
   "version": "3.10.7"
  },
  "orig_nbformat": 4,
  "vscode": {
   "interpreter": {
    "hash": "e7370f93d1d0cde622a1f8e1c04877d8463912d04d973331ad4851f04de6915a"
   }
  }
 },
 "nbformat": 4,
 "nbformat_minor": 2
}
