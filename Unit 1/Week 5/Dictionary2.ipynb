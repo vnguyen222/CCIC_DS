{
 "cells": [
  {
   "cell_type": "code",
   "execution_count": 7,
   "metadata": {},
   "outputs": [],
   "source": [
    "date_color = { \"2001-08-01\" : [\"Wednesday\", 50, 25, 71],\n",
    "    \"2001-08-02\" : [\"Thursday\", 60, 31, 53],\n",
    "    \"2001-08-03\" : [\"Friday\", 51, 24, 50],\n",
    "    \"2001-08-04\" : [\"Saturday\", 79, 21, 69],\n",
    "    \"2001-08-05\" : [\"Sunday\", 77, 39, 57],\n",
    "    \"2001-08-06\" : [\"Monday\", 93, 40, 66],\n",
    "    \"2001-08-07\" : [\"Tuesday\", 55, 32, 63] }"
   ]
  },
  {
   "cell_type": "code",
   "execution_count": 8,
   "metadata": {},
   "outputs": [
    {
     "name": "stdout",
     "output_type": "stream",
     "text": [
      "{'2001-08-01': ['Wednesday', 50, 25, 71], '2001-08-02': ['Thursday', 60, 31, 53], '2001-08-03': ['Friday', 51, 24, 50], '2001-08-04': ['Saturday', 79, 21, 69], '2001-08-05': ['Sunday', 77, 39, 57], '2001-08-06': ['Monday', 93, 40, 66], '2001-08-07': ['Tuesday', 55, 32, 63], '2001-08-08': ['Tuesday', 87, 89, 1]}\n"
     ]
    }
   ],
   "source": [
    "date_color[\"2001-08-08\"] = [\"Tuesday\", 87, 89, 1]\n",
    "print(date_color)"
   ]
  },
  {
   "cell_type": "code",
   "execution_count": 9,
   "metadata": {},
   "outputs": [
    {
     "name": "stdout",
     "output_type": "stream",
     "text": [
      "{'2001-08-02': ['Thursday', 60, 31, 53], '2001-08-03': ['Friday', 51, 24, 50], '2001-08-04': ['Saturday', 79, 21, 69], '2001-08-05': ['Sunday', 77, 39, 57], '2001-08-06': ['Monday', 93, 40, 66], '2001-08-07': ['Tuesday', 55, 32, 63], '2001-08-08': ['Tuesday', 87, 89, 1]}\n"
     ]
    }
   ],
   "source": [
    "date_color.pop(\"2001-08-01\")\n",
    "print(date_color)"
   ]
  }
 ],
 "metadata": {
  "kernelspec": {
   "display_name": "Python 3.10.7 64-bit",
   "language": "python",
   "name": "python3"
  },
  "language_info": {
   "codemirror_mode": {
    "name": "ipython",
    "version": 3
   },
   "file_extension": ".py",
   "mimetype": "text/x-python",
   "name": "python",
   "nbconvert_exporter": "python",
   "pygments_lexer": "ipython3",
   "version": "3.10.7"
  },
  "orig_nbformat": 4,
  "vscode": {
   "interpreter": {
    "hash": "e7370f93d1d0cde622a1f8e1c04877d8463912d04d973331ad4851f04de6915a"
   }
  }
 },
 "nbformat": 4,
 "nbformat_minor": 2
}
