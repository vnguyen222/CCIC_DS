{
 "cells": [
  {
   "cell_type": "code",
   "execution_count": 5,
   "metadata": {},
   "outputs": [],
   "source": [
    "import xmltodict, requests\n",
    "import pandas"
   ]
  },
  {
   "cell_type": "code",
   "execution_count": 8,
   "metadata": {},
   "outputs": [
    {
     "name": "stdout",
     "output_type": "stream",
     "text": [
      "Bahrain International Circuit\n",
      "1:27.264\n"
     ]
    }
   ],
   "source": [
    "req = requests.get(\"http://ergast.com/api/f1/{0}/{1}/qualifying\".format(2020, 15))\n",
    "\n",
    "dict = xmltodict.parse(req.content)\n",
    "circuit, fastest_quali_lap = None, None\n",
    "try:\n",
    "    circuit = dict[\"MRData\"][\"RaceTable\"][\"Race\"][\"Circuit\"][\"CircuitName\"]\n",
    "    print(circuit)\n",
    "    fastest_quali_lap = dict[\"MRData\"][\"RaceTable\"][\"Race\"][\"QualifyingList\"][\"QualifyingResult\"][0][\"Q1\"]\n",
    "    fastest_quali_lap = dict[\"MRData\"][\"RaceTable\"][\"Race\"][\"QualifyingList\"][\"QualifyingResult\"][0][\"Q2\"]\n",
    "    fastest_quali_lap = dict[\"MRData\"][\"RaceTable\"][\"Race\"][\"QualifyingList\"][\"QualifyingResult\"][0][\"Q3\"]\n",
    "except KeyError:\n",
    "    if \"Race\" not in dict[\"MRData\"][\"RaceTable\"]:\n",
    "        pass\n",
    "    else:\n",
    "        pass\n",
    "finally:\n",
    "    if circuit == None and circuit == None:\n",
    "        pass\n",
    "    else:\n",
    "        print(fastest_quali_lap)"
   ]
  }
 ],
 "metadata": {
  "kernelspec": {
   "display_name": "Python 3.10.8 ('DataScience_venv')",
   "language": "python",
   "name": "python3"
  },
  "language_info": {
   "codemirror_mode": {
    "name": "ipython",
    "version": 3
   },
   "file_extension": ".py",
   "mimetype": "text/x-python",
   "name": "python",
   "nbconvert_exporter": "python",
   "pygments_lexer": "ipython3",
   "version": "3.10.8"
  },
  "orig_nbformat": 4,
  "vscode": {
   "interpreter": {
    "hash": "5ef2ec067bacba4125a261c2f9975142b2c996626b1efa31dd82cd63459884eb"
   }
  }
 },
 "nbformat": 4,
 "nbformat_minor": 2
}
