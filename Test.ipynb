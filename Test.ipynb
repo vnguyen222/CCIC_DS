{
 "cells": [
  {
   "cell_type": "code",
   "execution_count": null,
   "metadata": {},
   "outputs": [],
   "source": [
    "powers = [[1, 2, 3], [4, 5, 6]]\n",
    "\n",
    "index = 0\n",
    "\n",
    "for row in powers:\n",
    "    for num in row:\n",
    "        num = num ** row\n",
    "        print(num)\n",
    "    index = index + 1\n",
    "\n",
    "print(powers[1][2])"
   ]
  }
 ],
 "metadata": {
  "kernelspec": {
   "display_name": "Python 3.10.7 64-bit",
   "language": "python",
   "name": "python3"
  },
  "language_info": {
   "name": "python",
   "version": "3.10.7"
  },
  "orig_nbformat": 4,
  "vscode": {
   "interpreter": {
    "hash": "e7370f93d1d0cde622a1f8e1c04877d8463912d04d973331ad4851f04de6915a"
   }
  }
 },
 "nbformat": 4,
 "nbformat_minor": 2
}
