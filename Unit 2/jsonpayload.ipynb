{
 "cells": [
  {
   "cell_type": "code",
   "execution_count": 9,
   "metadata": {},
   "outputs": [],
   "source": [
    "# Import all needed libraries\n",
    "\n",
    "import requests\n",
    "import pandas as pd\n",
    "import seaborn as graph"
   ]
  },
  {
   "cell_type": "code",
   "execution_count": 10,
   "metadata": {},
   "outputs": [],
   "source": [
    "# Get the list of all foods from the USDA server using their API\n",
    "\n",
    "def getAllFoods():\n",
    "    pageNum = 1\n",
    "    foods = []\n",
    "    while True:\n",
    "        url = \"https://api.nal.usda.gov/fdc/v1/foods/list?query=&pageSize=200&api_key=AwJ7dTgZCakbjiaZZEpPfFDfePveGTPewd8klxfv&pageNumber=\" + str(pageNum)\n",
    "        req = requests.get(url)\n",
    "        if not req.ok:\n",
    "            print(\"Connection error\")\n",
    "            break\n",
    "        foods = foods + req.json()\n",
    "        pageNum += 1\n",
    "    \n",
    "    return foods"
   ]
  },
  {
   "cell_type": "code",
   "execution_count": 11,
   "metadata": {},
   "outputs": [
    {
     "name": "stdout",
     "output_type": "stream",
     "text": [
      "Connection error\n"
     ]
    }
   ],
   "source": [
    "list = getAllFoods()"
   ]
  },
  {
   "cell_type": "code",
   "execution_count": 12,
   "metadata": {},
   "outputs": [
    {
     "name": "stdout",
     "output_type": "stream",
     "text": [
      "10000\n",
      "{'fdcId': 2353623, 'description': 'A Low-Starch and High-Fiber Diet Intervention Impacts the Microbial Community of Raw Bovine Milk', 'dataType': 'Experimental', 'publicationDate': '2022-10-28', 'foodNutrients': []}\n"
     ]
    }
   ],
   "source": [
    "print(len(list))\n",
    "print(list[0])"
   ]
  },
  {
   "cell_type": "code",
   "execution_count": 13,
   "metadata": {},
   "outputs": [],
   "source": [
    "# Create a dictionary with only name and iron as entries\n",
    "# { Name : name, Iron : iron}\n",
    "\n",
    "def getIron():\n",
    "    iron = []\n",
    "    for food in list:\n",
    "        name = food[\"description\"]\n",
    "        for nutrient in food[\"foodNutrients\"]:\n",
    "            if nutrient[\"name\"] == \"Iron, Fe\":\n",
    "                iron_amount = nutrient[\"amount\"]\n",
    "                temp = {\"Name\" : name, \"Iron\" : iron_amount}\n",
    "                iron.append(temp)\n",
    "\n",
    "    return iron\n",
    "\n",
    "iron = getIron()"
   ]
  },
  {
   "cell_type": "code",
   "execution_count": 14,
   "metadata": {},
   "outputs": [
    {
     "data": {
      "text/html": [
       "<div>\n",
       "<style scoped>\n",
       "    .dataframe tbody tr th:only-of-type {\n",
       "        vertical-align: middle;\n",
       "    }\n",
       "\n",
       "    .dataframe tbody tr th {\n",
       "        vertical-align: top;\n",
       "    }\n",
       "\n",
       "    .dataframe thead th {\n",
       "        text-align: right;\n",
       "    }\n",
       "</style>\n",
       "<table border=\"1\" class=\"dataframe\">\n",
       "  <thead>\n",
       "    <tr style=\"text-align: right;\">\n",
       "      <th></th>\n",
       "      <th>Name</th>\n",
       "      <th>Iron</th>\n",
       "    </tr>\n",
       "  </thead>\n",
       "  <tbody>\n",
       "    <tr>\n",
       "      <th>0</th>\n",
       "      <td>Abalone</td>\n",
       "      <td>3.97</td>\n",
       "    </tr>\n",
       "    <tr>\n",
       "      <th>1</th>\n",
       "      <td>Abiyuch, raw</td>\n",
       "      <td>1.61</td>\n",
       "    </tr>\n",
       "    <tr>\n",
       "      <th>2</th>\n",
       "      <td>Acerola juice, raw</td>\n",
       "      <td>0.50</td>\n",
       "    </tr>\n",
       "    <tr>\n",
       "      <th>3</th>\n",
       "      <td>Acerola, (west indian cherry), raw</td>\n",
       "      <td>0.20</td>\n",
       "    </tr>\n",
       "    <tr>\n",
       "      <th>4</th>\n",
       "      <td>Acorn stew (Apache)</td>\n",
       "      <td>1.00</td>\n",
       "    </tr>\n",
       "    <tr>\n",
       "      <th>5</th>\n",
       "      <td>Adobo, with noodles</td>\n",
       "      <td>0.99</td>\n",
       "    </tr>\n",
       "    <tr>\n",
       "      <th>6</th>\n",
       "      <td>Adobo, with rice</td>\n",
       "      <td>1.34</td>\n",
       "    </tr>\n",
       "    <tr>\n",
       "      <th>7</th>\n",
       "      <td>Agave liquid sweetener</td>\n",
       "      <td>0.09</td>\n",
       "    </tr>\n",
       "    <tr>\n",
       "      <th>8</th>\n",
       "      <td>Agave, cooked (Southwest)</td>\n",
       "      <td>3.55</td>\n",
       "    </tr>\n",
       "    <tr>\n",
       "      <th>9</th>\n",
       "      <td>Agave, dried (Southwest)</td>\n",
       "      <td>3.64</td>\n",
       "    </tr>\n",
       "  </tbody>\n",
       "</table>\n",
       "</div>"
      ],
      "text/plain": [
       "                                 Name  Iron\n",
       "0                             Abalone  3.97\n",
       "1                        Abiyuch, raw  1.61\n",
       "2                  Acerola juice, raw  0.50\n",
       "3  Acerola, (west indian cherry), raw  0.20\n",
       "4                 Acorn stew (Apache)  1.00\n",
       "5                 Adobo, with noodles  0.99\n",
       "6                    Adobo, with rice  1.34\n",
       "7              Agave liquid sweetener  0.09\n",
       "8           Agave, cooked (Southwest)  3.55\n",
       "9            Agave, dried (Southwest)  3.64"
      ]
     },
     "execution_count": 14,
     "metadata": {},
     "output_type": "execute_result"
    }
   ],
   "source": [
    "# Convert the iron dictionary into a DataFrame\n",
    "\n",
    "data = pd.DataFrame(iron)\n",
    "data.head(10)"
   ]
  },
  {
   "cell_type": "code",
   "execution_count": 15,
   "metadata": {},
   "outputs": [
    {
     "data": {
      "text/html": [
       "<div>\n",
       "<style scoped>\n",
       "    .dataframe tbody tr th:only-of-type {\n",
       "        vertical-align: middle;\n",
       "    }\n",
       "\n",
       "    .dataframe tbody tr th {\n",
       "        vertical-align: top;\n",
       "    }\n",
       "\n",
       "    .dataframe thead th {\n",
       "        text-align: right;\n",
       "    }\n",
       "</style>\n",
       "<table border=\"1\" class=\"dataframe\">\n",
       "  <thead>\n",
       "    <tr style=\"text-align: right;\">\n",
       "      <th></th>\n",
       "      <th>Name</th>\n",
       "      <th>Iron</th>\n",
       "    </tr>\n",
       "  </thead>\n",
       "  <tbody>\n",
       "    <tr>\n",
       "      <th>3367</th>\n",
       "      <td>Cereals ready-to-eat, RALSTON Enriched Wheat B...</td>\n",
       "      <td>67.7</td>\n",
       "    </tr>\n",
       "    <tr>\n",
       "      <th>370</th>\n",
       "      <td>Babyfood, cereal, oatmeal, with honey, dry</td>\n",
       "      <td>67.2</td>\n",
       "    </tr>\n",
       "    <tr>\n",
       "      <th>363</th>\n",
       "      <td>Babyfood, cereal, oatmeal, dry fortified</td>\n",
       "      <td>64.1</td>\n",
       "    </tr>\n",
       "    <tr>\n",
       "      <th>276</th>\n",
       "      <td>Baby Toddler cereal, oatmeal, dry</td>\n",
       "      <td>64.1</td>\n",
       "    </tr>\n",
       "    <tr>\n",
       "      <th>364</th>\n",
       "      <td>Babyfood, cereal, Oatmeal, dry, GERBER, SINGLE...</td>\n",
       "      <td>64.0</td>\n",
       "    </tr>\n",
       "    <tr>\n",
       "      <th>274</th>\n",
       "      <td>Baby Toddler cereal, oatmeal with fruit, dry</td>\n",
       "      <td>61.0</td>\n",
       "    </tr>\n",
       "    <tr>\n",
       "      <th>8976</th>\n",
       "      <td>Parsley, freeze-dried</td>\n",
       "      <td>53.9</td>\n",
       "    </tr>\n",
       "    <tr>\n",
       "      <th>373</th>\n",
       "      <td>Babyfood, cereal, rice, dry fortified</td>\n",
       "      <td>53.0</td>\n",
       "    </tr>\n",
       "    <tr>\n",
       "      <th>280</th>\n",
       "      <td>Baby Toddler cereal, rice, dry</td>\n",
       "      <td>53.0</td>\n",
       "    </tr>\n",
       "    <tr>\n",
       "      <th>278</th>\n",
       "      <td>Baby Toddler cereal, rice with fruit, dry</td>\n",
       "      <td>50.4</td>\n",
       "    </tr>\n",
       "  </tbody>\n",
       "</table>\n",
       "</div>"
      ],
      "text/plain": [
       "                                                   Name  Iron\n",
       "3367  Cereals ready-to-eat, RALSTON Enriched Wheat B...  67.7\n",
       "370          Babyfood, cereal, oatmeal, with honey, dry  67.2\n",
       "363            Babyfood, cereal, oatmeal, dry fortified  64.1\n",
       "276                   Baby Toddler cereal, oatmeal, dry  64.1\n",
       "364   Babyfood, cereal, Oatmeal, dry, GERBER, SINGLE...  64.0\n",
       "274        Baby Toddler cereal, oatmeal with fruit, dry  61.0\n",
       "8976                              Parsley, freeze-dried  53.9\n",
       "373               Babyfood, cereal, rice, dry fortified  53.0\n",
       "280                      Baby Toddler cereal, rice, dry  53.0\n",
       "278           Baby Toddler cereal, rice with fruit, dry  50.4"
      ]
     },
     "execution_count": 15,
     "metadata": {},
     "output_type": "execute_result"
    }
   ],
   "source": [
    "# Sort the DataFrame by iron to get the greatest amount of iron\n",
    "\n",
    "data = data.sort_values(by=\"Iron\", ascending=False)\n",
    "data.head(10)"
   ]
  },
  {
   "cell_type": "code",
   "execution_count": 25,
   "metadata": {},
   "outputs": [
    {
     "data": {
      "text/html": [
       "<div>\n",
       "<style scoped>\n",
       "    .dataframe tbody tr th:only-of-type {\n",
       "        vertical-align: middle;\n",
       "    }\n",
       "\n",
       "    .dataframe tbody tr th {\n",
       "        vertical-align: top;\n",
       "    }\n",
       "\n",
       "    .dataframe thead th {\n",
       "        text-align: right;\n",
       "    }\n",
       "</style>\n",
       "<table border=\"1\" class=\"dataframe\">\n",
       "  <thead>\n",
       "    <tr style=\"text-align: right;\">\n",
       "      <th></th>\n",
       "      <th>Name</th>\n",
       "      <th>Iron</th>\n",
       "    </tr>\n",
       "  </thead>\n",
       "  <tbody>\n",
       "    <tr>\n",
       "      <th>3367</th>\n",
       "      <td>Cereals ready-to-eat, RALSTON Enriched Wheat B...</td>\n",
       "      <td>67.7</td>\n",
       "    </tr>\n",
       "    <tr>\n",
       "      <th>8976</th>\n",
       "      <td>Parsley, freeze-dried</td>\n",
       "      <td>53.9</td>\n",
       "    </tr>\n",
       "    <tr>\n",
       "      <th>3451</th>\n",
       "      <td>Cereals, QUAKER, Quick Oats with Iron, Dry</td>\n",
       "      <td>49.4</td>\n",
       "    </tr>\n",
       "    <tr>\n",
       "      <th>3248</th>\n",
       "      <td>Cereal, O's, multigrain</td>\n",
       "      <td>46.6</td>\n",
       "    </tr>\n",
       "    <tr>\n",
       "      <th>1961</th>\n",
       "      <td>Beef, variety meats and by-products, spleen, raw</td>\n",
       "      <td>44.6</td>\n",
       "    </tr>\n",
       "    <tr>\n",
       "      <th>3401</th>\n",
       "      <td>Cereals, MALT-O-MEAL, chocolate, dry</td>\n",
       "      <td>42.9</td>\n",
       "    </tr>\n",
       "    <tr>\n",
       "      <th>3426</th>\n",
       "      <td>Cereals, QUAKER, Instant Grits, Redeye Gravy &amp;...</td>\n",
       "      <td>42.0</td>\n",
       "    </tr>\n",
       "    <tr>\n",
       "      <th>7711</th>\n",
       "      <td>Lamb, variety meats and by-products, spleen, raw</td>\n",
       "      <td>41.9</td>\n",
       "    </tr>\n",
       "    <tr>\n",
       "      <th>3297</th>\n",
       "      <td>Cereals ready-to-eat, MALT-O-MEAL, OAT BLENDER...</td>\n",
       "      <td>41.4</td>\n",
       "    </tr>\n",
       "    <tr>\n",
       "      <th>3403</th>\n",
       "      <td>Cereals, MALT-O-MEAL, Farina Hot Wheat Cereal,...</td>\n",
       "      <td>40.9</td>\n",
       "    </tr>\n",
       "  </tbody>\n",
       "</table>\n",
       "</div>"
      ],
      "text/plain": [
       "                                                   Name  Iron\n",
       "3367  Cereals ready-to-eat, RALSTON Enriched Wheat B...  67.7\n",
       "8976                              Parsley, freeze-dried  53.9\n",
       "3451         Cereals, QUAKER, Quick Oats with Iron, Dry  49.4\n",
       "3248                            Cereal, O's, multigrain  46.6\n",
       "1961   Beef, variety meats and by-products, spleen, raw  44.6\n",
       "3401               Cereals, MALT-O-MEAL, chocolate, dry  42.9\n",
       "3426  Cereals, QUAKER, Instant Grits, Redeye Gravy &...  42.0\n",
       "7711   Lamb, variety meats and by-products, spleen, raw  41.9\n",
       "3297  Cereals ready-to-eat, MALT-O-MEAL, OAT BLENDER...  41.4\n",
       "3403  Cereals, MALT-O-MEAL, Farina Hot Wheat Cereal,...  40.9"
      ]
     },
     "execution_count": 25,
     "metadata": {},
     "output_type": "execute_result"
    }
   ],
   "source": [
    "# Remove all entries that are baby foods\n",
    "\n",
    "data = data[data[\"Name\"].str.contains(\"baby\") == False]\n",
    "data = data[data[\"Name\"].str.contains(\"Baby\") == False]\n",
    "\n",
    "top10 = data.head(10)\n",
    "top10"
   ]
  },
  {
   "cell_type": "code",
   "execution_count": 26,
   "metadata": {},
   "outputs": [
    {
     "data": {
      "text/plain": [
       "<AxesSubplot:xlabel='Iron', ylabel='Name'>"
      ]
     },
     "execution_count": 26,
     "metadata": {},
     "output_type": "execute_result"
    },
    {
     "data": {
      "image/png": "[encoded data removed]",
      "text/plain": [
       "<Figure size 640x480 with 1 Axes>"
      ]
     },
     "metadata": {},
     "output_type": "display_data"
    }
   ],
   "source": [
    "# Plot the data\n",
    "graph.barplot(x=top10[\"Iron\"], y=top10[\"Name\"])"
   ]
  },
  {
   "cell_type": "code",
   "execution_count": 27,
   "metadata": {},
   "outputs": [
    {
     "data": {
      "text/plain": [
       "<AxesSubplot:ylabel='Count'>"
      ]
     },
     "execution_count": 27,
     "metadata": {},
     "output_type": "execute_result"
    },
    {
     "data": {
      "image/png": "[encoded data removed]",
      "text/plain": [
       "<Figure size 640x480 with 1 Axes>"
      ]
     },
     "metadata": {},
     "output_type": "display_data"
    }
   ],
   "source": [
    "graph.histplot(data=data)"
   ]
  },
  {
   "cell_type": "code",
   "execution_count": 36,
   "metadata": {},
   "outputs": [
    {
     "data": {
      "text/plain": [
       "40.90774000000001"
      ]
     },
     "execution_count": 36,
     "metadata": {},
     "output_type": "execute_result"
    }
   ],
   "source": [
    "data[\"Iron\"].quantile(0.99906)"
   ]
  }
 ],
 "metadata": {
  "kernelspec": {
   "display_name": "Python 3.10.8 64-bit",
   "language": "python",
   "name": "python3"
  },
  "language_info": {
   "codemirror_mode": {
    "name": "ipython",
    "version": 3
   },
   "file_extension": ".py",
   "mimetype": "text/x-python",
   "name": "python",
   "nbconvert_exporter": "python",
   "pygments_lexer": "ipython3",
   "version": "3.10.8"
  },
  "orig_nbformat": 4,
  "vscode": {
   "interpreter": {
    "hash": "e7370f93d1d0cde622a1f8e1c04877d8463912d04d973331ad4851f04de6915a"
   }
  }
 },
 "nbformat": 4,
 "nbformat_minor": 2
}
