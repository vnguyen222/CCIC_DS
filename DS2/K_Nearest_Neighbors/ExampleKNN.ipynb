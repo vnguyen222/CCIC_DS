{
  "cells": [
    {
      "cell_type": "code",
      "execution_count": 154,
      "metadata": {
        "id": "Q8_-PplThTtF"
      },
      "outputs": [],
      "source": [
        "import pandas as pd\n",
        "import numpy as np\n",
        "import math\n",
        "import time\n",
        "import seaborn as sns"
      ]
    },
    {
      "cell_type": "code",
      "execution_count": 155,
      "metadata": {
        "id": "zB0dXMbshy3V"
      },
      "outputs": [],
      "source": [
        "df = pd.read_csv(\"CleanedTitanic.csv\")\n",
        "df.drop(['Unnamed: 0'], inplace=True, axis=1)"
      ]
    },
    {
      "cell_type": "code",
      "execution_count": 156,
      "metadata": {
        "id": "rno1l9Dch_Iw"
      },
      "outputs": [],
      "source": [
        "# Test/Train Split\n",
        "length = len(df.index)\n",
        "splitPoint = int(length * 0.7)\n",
        "train = df[0:splitPoint]\n",
        "test = df[splitPoint:length]"
      ]
    },
    {
      "cell_type": "markdown",
      "metadata": {
        "id": "5uec-cTM_5GY"
      },
      "source": [
        "# K-NN Algorithm"
      ]
    },
    {
      "cell_type": "code",
      "execution_count": 157,
      "metadata": {
        "id": "85Yn6DjkiTpz"
      },
      "outputs": [],
      "source": [
        "# K-NN Training Algorithm\n",
        "def trainKNN(df, iterations):\n",
        "  '''\n",
        "  Pseudocode Algorithm\n",
        "  1. Set K to 3 because this is the first odd value greater than the number of categories in the Titanic dataset.\n",
        "  2. Create an empty list to collect accuracy values during training.\n",
        "  2. Segment the training dataset into three equal parts: \n",
        "    - Segment 1: Class 1 labels\n",
        "    - Segment 2: Class 2 labels\n",
        "    - Segment 3: Remaining data of \"unknown\" labels \n",
        "  3. Calculate the euclidean distance between each data point in segment 3 with all data in segment 1 and segment 2. \n",
        "  4. Take the top K smallest distances to determine the label of the \"unknown\" data point.\n",
        "  5. Append 0 to accuracy list if the label does not match the actual label. Append 1 to accuracy list if the label does match the actual label.\n",
        "  6. Calculate the overall accuracy percent of the K value and append it to a dictionary of k, accuracy values.\n",
        "  7. Add 2 to K and repeat steps 3 - 6 for a desired number of iterations.\n",
        "  '''\n",
        "  # Set initial value of k\n",
        "  k = 3\n",
        "\n",
        "  # Segment training data into 3 segments.\n",
        "  class1, class2, unknowns = getSegments(df)\n",
        "  \n",
        "  # Calculate accuracy of K values for desired iterations\n",
        "  count = 0\n",
        "  accuracies = {}\n",
        "  t0 = time.time() # for measuring how long it takes to compute\n",
        "  t0_k = k\n",
        "  while count < iterations:\n",
        "    if count % 10 == 0:\n",
        "      elapsed = time.time() - t0\n",
        "      t0 = time.time()\n",
        "      print(f\"Took {elapsed:.2f} seconds to compute {t0_k}<=k<{k}\")\n",
        "      t0_k = k\n",
        "    # Calculate percent accuracy for current k\n",
        "    accuracy_at_k = calculateAccuracy(class1, class2, unknowns, k)\n",
        "    accuracies[k] = accuracy_at_k\n",
        "    k = k + 2\n",
        "    count = count + 1\n",
        "  \n",
        "  return accuracies\n",
        "\n",
        "# trainKNN(train, 1)"
      ]
    },
    {
      "cell_type": "markdown",
      "metadata": {
        "id": "_NE-ezlK_7lw"
      },
      "source": [
        "# Helper Functions"
      ]
    },
    {
      "cell_type": "code",
      "execution_count": 158,
      "metadata": {
        "id": "1u0juJM8lnPU"
      },
      "outputs": [],
      "source": [
        "def getSegments(df):\n",
        "  # Segment training data into 3 segments. If not divisible by 3, add extra data to unknown segment.\n",
        "  length = len(df.index)\n",
        "  splitPoint = int(length/3)\n",
        "  survived = df[df.Survived == 1]\n",
        "  died = df[df.Survived == 0]\n",
        "  survived_df = survived.iloc[:splitPoint]\n",
        "  died_df = died.iloc[:splitPoint]\n",
        "  leftover = pd.concat([survived.iloc[splitPoint:], died.iloc[splitPoint:]])\n",
        "  survived.reset_index(inplace=True, drop=True)\n",
        "  died.reset_index(inplace=True, drop=True)\n",
        "  leftover.reset_index(inplace=True, drop=True)\n",
        "  return survived_df, died_df, leftover"
      ]
    },
    {
      "cell_type": "code",
      "execution_count": 159,
      "metadata": {
        "id": "fSnaE0R7nUU0"
      },
      "outputs": [],
      "source": [
        "cache = {}\n",
        "def calculateAccuracy(class1, class2, unknowns, k):\n",
        "  known = pd.concat([class1, class2], axis=0)\n",
        "  unknown_prediction_correct = []\n",
        "  for idx in unknowns.index:\n",
        "    if not idx in cache:\n",
        "      cache[idx] = known.apply(lambda x: euclidianDistance(x, unknowns.iloc[idx]), axis=1)\n",
        "    known['distance_to_unknown'] = cache[idx]\n",
        "    top_k = known.sort_values('distance_to_unknown',ascending=True).head(k)\n",
        "    predicted_class = top_k.value_counts(ascending=False, subset='Survived').index[0] # TODO: double check this line\n",
        "    unknown_prediction_correct.append(1 if predicted_class == unknowns.iloc[idx].Survived else 0)\n",
        "    known.pop('distance_to_unknown') # remove this so we don't use it in future distance calculations\n",
        "  return sum(unknown_prediction_correct) / len(unknown_prediction_correct)"
      ]
    },
    {
      "cell_type": "code",
      "execution_count": 160,
      "metadata": {
        "id": "X6RKrb2zyS_J"
      },
      "outputs": [],
      "source": [
        "def euclidianDistance(row1, row2):\n",
        "  sum = 0\n",
        "  for (i, j) in zip(row1[1:10], row2[1:10]):\n",
        "    diffSQ = (i - j) **2\n",
        "    sum = sum + diffSQ\n",
        "  return math.sqrt(sum)"
      ]
    },
    {
      "cell_type": "markdown",
      "metadata": {
        "id": "M17kEKhL_-YL"
      },
      "source": [
        "# Result of calling trainKNN"
      ]
    },
    {
      "cell_type": "code",
      "execution_count": 161,
      "metadata": {
        "colab": {
          "base_uri": "https://localhost:8080/"
        },
        "id": "O0RHWEuUneMw",
        "outputId": "8a363974-ed32-4255-8fd3-5f697b60d61c"
      },
      "outputs": [
        {
          "name": "stdout",
          "output_type": "stream",
          "text": [
            "Class1 Variable\n",
            "     Survived  Sex       Age     Parch      Fare  Embarked_S  Embarked_C  \\\n",
            "1           1    1  0.472229  0.000000  0.139136           0           1   \n",
            "2           1    1  0.321438  0.000000  0.015469           1           0   \n",
            "3           1    1  0.434531  0.000000  0.103644           1           0   \n",
            "7           1    1  0.334004  0.333333  0.021731           1           0   \n",
            "8           1    1  0.170646  0.000000  0.058694           0           1   \n",
            "..        ...  ...       ...       ...       ...         ...         ...   \n",
            "406         1    0  0.447097  0.000000  0.051310           1           0   \n",
            "407         1    1  0.673285  0.000000  0.115941           0           1   \n",
            "410         1    1  0.421965  0.000000  0.020495           1           0   \n",
            "411         1    1  0.447097  0.000000  0.050749           1           0   \n",
            "413         1    1  0.371701  0.000000  0.182500           1           0   \n",
            "\n",
            "     Embarked_Q  First Class  Second Class  Third Class  \n",
            "1             0            1             0            0  \n",
            "2             0            0             0            1  \n",
            "3             0            1             0            0  \n",
            "7             0            0             0            1  \n",
            "8             0            0             1            0  \n",
            "..          ...          ...           ...          ...  \n",
            "406           0            1             0            0  \n",
            "407           0            1             0            0  \n",
            "410           0            0             1            0  \n",
            "411           0            0             1            0  \n",
            "413           0            1             0            0  \n",
            "\n",
            "[166 rows x 11 columns]\n",
            "Class2 Variable\n",
            "     Survived  Sex       Age     Parch      Fare  Embarked_S  Embarked_C  \\\n",
            "0           0    0  0.271174  0.000000  0.014151           1           0   \n",
            "4           0    0  0.434531  0.000000  0.015713           1           0   \n",
            "5           0    0  0.673285  0.000000  0.101229           1           0   \n",
            "6           0    0  0.019854  0.166667  0.041136           1           0   \n",
            "11          0    0  0.246042  0.000000  0.015713           1           0   \n",
            "..        ...  ...       ...       ...       ...         ...         ...   \n",
            "257         0    0  0.334004  0.000000  0.015412           1           0   \n",
            "261         0    0  0.761247  0.000000  0.012175           1           0   \n",
            "265         0    0  0.566474  0.000000  0.055628           1           0   \n",
            "266         0    0  0.472229  0.166667  0.299539           1           0   \n",
            "267         0    0  0.195778  0.000000  0.035134           1           0   \n",
            "\n",
            "     Embarked_Q  First Class  Second Class  Third Class  \n",
            "0             0            0             0            1  \n",
            "4             0            0             0            1  \n",
            "5             0            1             0            0  \n",
            "6             0            0             0            1  \n",
            "11            0            0             0            1  \n",
            "..          ...          ...           ...          ...  \n",
            "257           0            0             0            1  \n",
            "261           0            0             0            1  \n",
            "265           0            1             0            0  \n",
            "266           0            1             0            0  \n",
            "267           0            0             0            1  \n",
            "\n",
            "[166 rows x 11 columns]\n",
            "Took 0.00 seconds to compute 3<=k<3\n"
          ]
        }
      ],
      "source": [
        "performance = trainKNN(train, 10)"
      ]
    },
    {
      "cell_type": "code",
      "execution_count": 162,
      "metadata": {
        "colab": {
          "base_uri": "https://localhost:8080/"
        },
        "id": "Y_Z2-pyEADIC",
        "outputId": "a97750ed-1ab3-4740-8b64-deea1605e958"
      },
      "outputs": [
        {
          "name": "stdout",
          "output_type": "stream",
          "text": [
            "{3: 0.7951807228915663, 5: 0.7771084337349398, 7: 0.8072289156626506, 9: 0.8072289156626506, 11: 0.8132530120481928, 13: 0.8072289156626506, 15: 0.8012048192771084, 17: 0.8072289156626506, 19: 0.7831325301204819, 21: 0.7831325301204819}\n"
          ]
        }
      ],
      "source": [
        "print(performance)"
      ]
    },
    {
      "cell_type": "markdown",
      "metadata": {
        "id": "XJgRQUiID63I"
      },
      "source": [
        "# Visualizing K Accuracy"
      ]
    },
    {
      "cell_type": "code",
      "execution_count": 163,
      "metadata": {
        "colab": {
          "base_uri": "https://localhost:8080/",
          "height": 206
        },
        "id": "u_FF_ciOBLYj",
        "outputId": "94bb64ea-e4be-4740-a560-8ede04ab9bdb"
      },
      "outputs": [
        {
          "data": {
            "text/html": [
              "<div>\n",
              "<style scoped>\n",
              "    .dataframe tbody tr th:only-of-type {\n",
              "        vertical-align: middle;\n",
              "    }\n",
              "\n",
              "    .dataframe tbody tr th {\n",
              "        vertical-align: top;\n",
              "    }\n",
              "\n",
              "    .dataframe thead th {\n",
              "        text-align: right;\n",
              "    }\n",
              "</style>\n",
              "<table border=\"1\" class=\"dataframe\">\n",
              "  <thead>\n",
              "    <tr style=\"text-align: right;\">\n",
              "      <th></th>\n",
              "      <th>k</th>\n",
              "      <th>accuracy</th>\n",
              "    </tr>\n",
              "  </thead>\n",
              "  <tbody>\n",
              "    <tr>\n",
              "      <th>0</th>\n",
              "      <td>3</td>\n",
              "      <td>0.795181</td>\n",
              "    </tr>\n",
              "    <tr>\n",
              "      <th>1</th>\n",
              "      <td>5</td>\n",
              "      <td>0.777108</td>\n",
              "    </tr>\n",
              "    <tr>\n",
              "      <th>2</th>\n",
              "      <td>7</td>\n",
              "      <td>0.807229</td>\n",
              "    </tr>\n",
              "    <tr>\n",
              "      <th>3</th>\n",
              "      <td>9</td>\n",
              "      <td>0.807229</td>\n",
              "    </tr>\n",
              "    <tr>\n",
              "      <th>4</th>\n",
              "      <td>11</td>\n",
              "      <td>0.813253</td>\n",
              "    </tr>\n",
              "    <tr>\n",
              "      <th>5</th>\n",
              "      <td>13</td>\n",
              "      <td>0.807229</td>\n",
              "    </tr>\n",
              "    <tr>\n",
              "      <th>6</th>\n",
              "      <td>15</td>\n",
              "      <td>0.801205</td>\n",
              "    </tr>\n",
              "    <tr>\n",
              "      <th>7</th>\n",
              "      <td>17</td>\n",
              "      <td>0.807229</td>\n",
              "    </tr>\n",
              "    <tr>\n",
              "      <th>8</th>\n",
              "      <td>19</td>\n",
              "      <td>0.783133</td>\n",
              "    </tr>\n",
              "    <tr>\n",
              "      <th>9</th>\n",
              "      <td>21</td>\n",
              "      <td>0.783133</td>\n",
              "    </tr>\n",
              "  </tbody>\n",
              "</table>\n",
              "</div>"
            ],
            "text/plain": [
              "    k  accuracy\n",
              "0   3  0.795181\n",
              "1   5  0.777108\n",
              "2   7  0.807229\n",
              "3   9  0.807229\n",
              "4  11  0.813253\n",
              "5  13  0.807229\n",
              "6  15  0.801205\n",
              "7  17  0.807229\n",
              "8  19  0.783133\n",
              "9  21  0.783133"
            ]
          },
          "execution_count": 163,
          "metadata": {},
          "output_type": "execute_result"
        }
      ],
      "source": [
        "kacc = pd.DataFrame({\n",
        "    \"k\": list(sorted(performance.keys())),\n",
        "    \"accuracy\": [performance[k] for k in sorted(performance.keys())]\n",
        "})\n",
        "# kacc.head()\n",
        "kacc"
      ]
    },
    {
      "cell_type": "code",
      "execution_count": 164,
      "metadata": {},
      "outputs": [
        {
          "name": "stdout",
          "output_type": "stream",
          "text": [
            "k           21.000000\n",
            "accuracy     0.813253\n",
            "dtype: float64\n"
          ]
        }
      ],
      "source": [
        "print(kacc.max())"
      ]
    },
    {
      "cell_type": "code",
      "execution_count": 165,
      "metadata": {
        "colab": {
          "base_uri": "https://localhost:8080/",
          "height": 297
        },
        "id": "VRWQIMGzqN0P",
        "outputId": "3b1e484a-0f1d-4952-808a-461bee82d702"
      },
      "outputs": [
        {
          "data": {
            "text/plain": [
              "<AxesSubplot: xlabel='k', ylabel='accuracy'>"
            ]
          },
          "execution_count": 165,
          "metadata": {},
          "output_type": "execute_result"
        },
        {
          "data": {
            "image/png": "[encoded data removed]",
            "text/plain": [
              "<Figure size 640x480 with 1 Axes>"
            ]
          },
          "metadata": {},
          "output_type": "display_data"
        }
      ],
      "source": [
        "sns.lineplot(x=kacc.k, y=kacc.accuracy)"
      ]
    },
    {
      "cell_type": "code",
      "execution_count": 166,
      "metadata": {},
      "outputs": [],
      "source": [
        "testX = test.iloc[:,1:10]\n",
        "textY = test.iloc[:,0:1]"
      ]
    }
  ],
  "metadata": {
    "colab": {
      "provenance": []
    },
    "kernelspec": {
      "display_name": "Python 3",
      "name": "python3"
    },
    "language_info": {
      "codemirror_mode": {
        "name": "ipython",
        "version": 3
      },
      "file_extension": ".py",
      "mimetype": "text/x-python",
      "name": "python",
      "nbconvert_exporter": "python",
      "pygments_lexer": "ipython3",
      "version": "3.10.10"
    }
  },
  "nbformat": 4,
  "nbformat_minor": 0
}
