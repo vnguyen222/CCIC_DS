{
 "cells": [
  {
   "cell_type": "code",
   "execution_count": 3,
   "metadata": {},
   "outputs": [],
   "source": [
    "import csv"
   ]
  },
  {
   "cell_type": "code",
   "execution_count": 4,
   "metadata": {},
   "outputs": [],
   "source": [
    "# Import all data\n",
    "all_data = []\n",
    "\n",
    "with open(\"SATData.csv\") as csv_obj:\n",
    "    reader_obj = csv.reader(csv_obj, delimiter=\",\")\n",
    "\n",
    "    for row in reader_obj:\n",
    "        all_data.append(row)\n",
    "\n",
    "all_data.pop(0)     # Removes the headers\n",
    "\n",
    "\n",
    "# Split the data\n",
    "split_index = int(len(all_data)/2)\n",
    "training_data, testing_data = all_data[:split_index], all_data[split_index:]"
   ]
  },
  {
   "cell_type": "code",
   "execution_count": 5,
   "metadata": {},
   "outputs": [
    {
     "data": {
      "text/plain": [
       "500"
      ]
     },
     "execution_count": 5,
     "metadata": {},
     "output_type": "execute_result"
    }
   ],
   "source": [
    "len(training_data)"
   ]
  }
 ],
 "metadata": {
  "kernelspec": {
   "display_name": "Python 3",
   "language": "python",
   "name": "python3"
  },
  "language_info": {
   "codemirror_mode": {
    "name": "ipython",
    "version": 3
   },
   "file_extension": ".py",
   "mimetype": "text/x-python",
   "name": "python",
   "nbconvert_exporter": "python",
   "pygments_lexer": "ipython3",
   "version": "3.10.10"
  },
  "orig_nbformat": 4,
  "vscode": {
   "interpreter": {
    "hash": "90150812076bc8d9f411522101fe8f43896d922e70d73ae52e5b417963053c97"
   }
  }
 },
 "nbformat": 4,
 "nbformat_minor": 2
}
