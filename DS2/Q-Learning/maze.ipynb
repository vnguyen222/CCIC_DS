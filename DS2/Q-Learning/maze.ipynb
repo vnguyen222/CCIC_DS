{
 "cells": [
  {
   "cell_type": "code",
   "execution_count": 824,
   "metadata": {},
   "outputs": [],
   "source": [
    "import pandas as pd\n",
    "import numpy as np\n",
    "import random"
   ]
  },
  {
   "cell_type": "code",
   "execution_count": 825,
   "metadata": {},
   "outputs": [],
   "source": [
    "MAZE=[[0,0,1,1,1],\n",
    "      [0,1,1,0,1],\n",
    "      [1,1,1,0,1],\n",
    "      [1,0,1,0,1],\n",
    "      [1,0,1,1,1]]\n",
    "REWARDS_TABLE = [[0,0,1,1,1],\n",
    "                 [0,1,1,0,1],\n",
    "                 [1,1,1,0,1],\n",
    "                 [1,0,1,0,1],\n",
    "                 [100,0,1,1,1]]"
   ]
  },
  {
   "cell_type": "code",
   "execution_count": 826,
   "metadata": {},
   "outputs": [],
   "source": [
    "def init_state_table():\n",
    "    qtable = []\n",
    "    for row in range(len(MAZE)):\n",
    "        qtable_row = []\n",
    "        for column in range(len(MAZE[row])):\n",
    "            qtable_row.append(QEntry((row, column)))\n",
    "        qtable.append(qtable_row)\n",
    "    return qtable\n",
    "            \n",
    "\n",
    "class QEntry:\n",
    "    def __init__(self, state):\n",
    "        self.state = state\n",
    "        self.up = 0\n",
    "        self.down = 0\n",
    "        self.left = 0\n",
    "        self.right = 0\n",
    "        # self.q_score = 0\n",
    "    \n",
    "    def get_state(self):\n",
    "        return self.state\n",
    "    def get_positions(self):\n",
    "        return {\"up\": self.up, \"down\": self.down, \"left\": self.left, \"right\": self.right}\n",
    "    # def get_qscore(self):\n",
    "    #     return self.q_score\n",
    "\n",
    "    def add_to_positions(self, increment, position):\n",
    "        match position:\n",
    "            case \"up\":\n",
    "                self.up += increment\n",
    "            case \"down\":\n",
    "                self.down += increment\n",
    "            case \"right\":\n",
    "                self.right += increment\n",
    "            case \"left\":\n",
    "                self.left += increment\n",
    "            case _:\n",
    "                raise Exception(\"No possible moves at ${current_position}\")\n",
    "    # def add_to_qscore(self, increment):\n",
    "    #     self.q_score += increment\n",
    "            \n",
    "\n",
    "# Init Q-Table\n",
    "q_table = init_state_table()"
   ]
  },
  {
   "cell_type": "code",
   "execution_count": 827,
   "metadata": {},
   "outputs": [
    {
     "data": {
      "text/plain": [
       "[[<__main__.QEntry at 0x22f60da5990>,\n",
       "  <__main__.QEntry at 0x22f60da5d20>,\n",
       "  <__main__.QEntry at 0x22f60da5c30>,\n",
       "  <__main__.QEntry at 0x22f60da5b40>,\n",
       "  <__main__.QEntry at 0x22f60da5c00>],\n",
       " [<__main__.QEntry at 0x22f60da5ae0>,\n",
       "  <__main__.QEntry at 0x22f60da4550>,\n",
       "  <__main__.QEntry at 0x22f60da64d0>,\n",
       "  <__main__.QEntry at 0x22f60da6cb0>,\n",
       "  <__main__.QEntry at 0x22f60da4220>],\n",
       " [<__main__.QEntry at 0x22f60da6530>,\n",
       "  <__main__.QEntry at 0x22f60da43a0>,\n",
       "  <__main__.QEntry at 0x22f60da4970>,\n",
       "  <__main__.QEntry at 0x22f60da6980>,\n",
       "  <__main__.QEntry at 0x22f60da6ad0>],\n",
       " [<__main__.QEntry at 0x22f60da6c20>,\n",
       "  <__main__.QEntry at 0x22f60da5f60>,\n",
       "  <__main__.QEntry at 0x22f60da6d70>,\n",
       "  <__main__.QEntry at 0x22f60da5fc0>,\n",
       "  <__main__.QEntry at 0x22f60da5ea0>],\n",
       " [<__main__.QEntry at 0x22f60da6080>,\n",
       "  <__main__.QEntry at 0x22f60da6260>,\n",
       "  <__main__.QEntry at 0x22f60da6a70>,\n",
       "  <__main__.QEntry at 0x22f60da69b0>,\n",
       "  <__main__.QEntry at 0x22f60da6470>]]"
      ]
     },
     "execution_count": 827,
     "metadata": {},
     "output_type": "execute_result"
    }
   ],
   "source": [
    "q_table"
   ]
  },
  {
   "cell_type": "code",
   "execution_count": 828,
   "metadata": {},
   "outputs": [],
   "source": [
    "def get_possible_actions(row_index, column_index):    \n",
    "    possible = {\"up\": False, \"down\": False, \"right\": False, \"left\": False}\n",
    "    #possible = {\"up\": row_index != 0, \"down\": row_index != len(MAZE)-1, \"right\": column_index != 0, \"left\": column_index != len(MAZE[0])-1}    \n",
    "    dir_functions = {\"up\": (lambda: True if MAZE[row_index-1][column_index] == 1 and not row_index == 0 else False),\n",
    "                     \"down\": (lambda: True if MAZE[row_index+1][column_index] == 1 and not row_index == len(MAZE)-1 else False),\n",
    "                     \"right\": (lambda: True if MAZE[row_index][column_index+1] == 1 and not column_index == len(MAZE[row_index])-1 else False),\n",
    "                     \"left\": (lambda: True if MAZE[row_index][column_index-1] == 1 and not column_index == 0 else False)}\n",
    "    for dir,funct in dir_functions.items():\n",
    "        try:\n",
    "            possible[dir] = funct()\n",
    "        except: pass\n",
    "\n",
    "    return possible"
   ]
  },
  {
   "cell_type": "code",
   "execution_count": 829,
   "metadata": {},
   "outputs": [],
   "source": [
    "def get_next_move(dictionary):\n",
    "    true_keys = [key for key, value in dictionary.items() if value]\n",
    "    if not true_keys:\n",
    "        return None\n",
    "    return random.choice(true_keys)"
   ]
  },
  {
   "cell_type": "code",
   "execution_count": 830,
   "metadata": {},
   "outputs": [],
   "source": [
    "def iterate_to_next_move(current_position, next_move):\n",
    "    '''\n",
    "    current_position: tuple (row_index, column_index)\n",
    "    '''\n",
    "    new_pos = [current_position[0], current_position[1]]\n",
    "    match next_move:\n",
    "        case \"up\":\n",
    "            new_pos[0] -= 1\n",
    "        case \"down\":\n",
    "            new_pos[0] += 1\n",
    "        case \"right\":\n",
    "            new_pos[1] += 1\n",
    "        case \"left\":\n",
    "            new_pos[1] -= 1\n",
    "        case _:\n",
    "            raise Exception(\"No possible moves at ${current_position}\")\n",
    "    \n",
    "    return tuple(new_pos)\n",
    "\n",
    "def get_next_move_qtable(current_state, dir):\n",
    "    '''\n",
    "    current_state: A tuple containing the coordinates to the old state, (row_index, column_index)\n",
    "    '''\n",
    "\n",
    "    next_state = list(current_state)\n",
    "    match dir:\n",
    "        case \"up\":\n",
    "            next_state[0] = current_state[0] - 1\n",
    "            next_state[1] = current_state[1]\n",
    "        case \"down\":\n",
    "            next_state[0] = current_state[0] + 1\n",
    "            next_state[1] = current_state[1]\n",
    "        case \"left\":\n",
    "            next_state[0] = current_state[0]\n",
    "            next_state[1] = current_state[1] - 1\n",
    "        case \"right\":\n",
    "            next_state[0] = current_state[0]\n",
    "            next_state[1] = current_state[1] + 1\n",
    "        case _:\n",
    "            raise Exception(\"Direction is invalid\")\n",
    "    next_state = tuple(next_state)\n",
    "        \n",
    "    # Find the entry in the q_table that contains the new state\n",
    "    return q_table[next_state[0]][next_state[1]]\n",
    "        "
   ]
  },
  {
   "cell_type": "code",
   "execution_count": 831,
   "metadata": {},
   "outputs": [],
   "source": [
    "# Bellman Equation\n",
    "alpha = 0.6\n",
    "gamma = 0.7\n",
    "\n",
    "bellman_equation = lambda state, old, next : (1 - alpha) * old + alpha * (REWARDS_TABLE[state[0]][state[1]] + gamma * next)"
   ]
  },
  {
   "cell_type": "code",
   "execution_count": 862,
   "metadata": {},
   "outputs": [
    {
     "data": {
      "text/plain": [
       "\"(0, 4){'up': 0, 'down': 165.18010238337024, 'left': 117.5572159881216, 'right': 0}{'up': False, 'down': True, 'right': False, 'left': True} left\""
      ]
     },
     "metadata": {},
     "output_type": "display_data"
    },
    {
     "data": {
      "text/plain": [
       "{'up': 0, 'down': 165.18010238337024, 'left': 117.5572159881216, 'right': 0}"
      ]
     },
     "metadata": {},
     "output_type": "display_data"
    },
    {
     "name": "stdout",
     "output_type": "stream",
     "text": [
      "(0, 3) old: 117.5572159881216 next_q: 0\n"
     ]
    },
    {
     "data": {
      "text/plain": [
       "47.62288639524864"
      ]
     },
     "metadata": {},
     "output_type": "display_data"
    }
   ],
   "source": [
    "# Moving through the maze\n",
    "start_row_index, start_column_index = 0,4\n",
    "end_row_index, end_column_index = 4,0\n",
    "\n",
    "current_row_index, current_column_index = start_row_index, start_column_index\n",
    "\n",
    "# while True:\n",
    "# Get current state\n",
    "entry = q_table[current_row_index][current_column_index]\n",
    "state = entry.get_state()\n",
    "state_q_positions = entry.get_positions()\n",
    "possible_movements = get_possible_actions(state[0], state[1])\n",
    "\n",
    "# Get next move\n",
    "next_move = get_next_move(possible_movements)\n",
    "display(str(state) + str(state_q_positions) + str(possible_movements) + \" \" + str(next_move))\n",
    "\n",
    "display(state_q_positions)\n",
    "# Using Bellman equation to find the Q-values\n",
    "old = state_q_positions[next_move]\n",
    "next_q_obj = get_next_move_qtable(state, next_move)\n",
    "next_q = max(list(next_q_obj.get_positions().values()))\n",
    "print(str(next_q_obj.get_state()) + \" old: {} next_q: {}\".format(old, next_q))\n",
    "display(bellman_equation(state, old, next_q))\n",
    "# Update the Q-value in the Q-table\n",
    "q_table[state[0]][state[1]].add_to_positions(bellman_equation(state, old, next_q), next_move)\n"
   ]
  },
  {
   "cell_type": "code",
   "execution_count": 833,
   "metadata": {},
   "outputs": [
    {
     "data": {
      "text/plain": [
       "{'up': 0, 'down': 0, 'left': 0.6, 'right': 0}"
      ]
     },
     "execution_count": 833,
     "metadata": {},
     "output_type": "execute_result"
    }
   ],
   "source": [
    "q_table[current_row_index][current_column_index].get_positions()"
   ]
  },
  {
   "cell_type": "code",
   "execution_count": 834,
   "metadata": {},
   "outputs": [],
   "source": [
    "# MAZE=[[0,0,1,1,1],\n",
    "#       [0,1,1,0,1],\n",
    "#       [1,1,1,0,1],\n",
    "#       [1,0,1,0,1],\n",
    "#       [1,0,1,1,1]]\n",
    "#REWARDS_TABLE = [[0,0,1,1,1],\n",
    "#                 [0,1,1,0,1],\n",
    "#                 [1,1,1,0,1],\n",
    "#                 [1,0,1,0,1],\n",
    "#                 [100,0,1,1,1]]\n",
    "\n",
    "# for entry in q_table:\n",
    "#     state = entry.get_state()\n",
    "#     state_movements = entry.get_positions()\n",
    "    \n",
    "#     possible_movements = get_possible_actions(state[0], state[1])\n",
    "#     display(str(possible_movements) + str(next_move(possible_movements)))\n",
    "    # for key, value in possible_movements.items():\n",
    "    #     if value == True:\n",
    "        # old = state_movements[key]\n",
    "        # get_possible_actions(state, key)\n",
    "        # next_q_obj = get_next_move_qtable(state, key)\n",
    "        # next_q = max(list(next_q_obj.get_positions().values()))\n",
    "        # state_movements[key] = bellman_equation(state, old, next_q)\n",
    "\n",
    "#     display(str(state) + str(state_movements))"
   ]
  },
  {
   "cell_type": "code",
   "execution_count": 835,
   "metadata": {},
   "outputs": [],
   "source": [
    "# get_possible_actions(2,1)\n",
    "# \n",
    "\n",
    "# bellman_equation = lambda alpha, gamma, reward : (1 - alpha) * q(s,a) + alpha * (reward + gamma * max(q'))\n",
    "\n",
    "# bellman_equation = lambda alpha, gamma, reward : (1 - alpha) * q(s,a) + alpha * (reward + gamma * max(q'))"
   ]
  }
 ],
 "metadata": {
  "kernelspec": {
   "display_name": "dsvenv",
   "language": "python",
   "name": "python3"
  },
  "language_info": {
   "codemirror_mode": {
    "name": "ipython",
    "version": 3
   },
   "file_extension": ".py",
   "mimetype": "text/x-python",
   "name": "python",
   "nbconvert_exporter": "python",
   "pygments_lexer": "ipython3",
   "version": "3.10.10"
  },
  "orig_nbformat": 4
 },
 "nbformat": 4,
 "nbformat_minor": 2
}
