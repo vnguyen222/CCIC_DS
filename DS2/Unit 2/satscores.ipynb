{
 "cells": [
  {
   "cell_type": "code",
   "execution_count": 209,
   "metadata": {},
   "outputs": [],
   "source": [
    "import pandas as pd"
   ]
  },
  {
   "cell_type": "code",
   "execution_count": 210,
   "metadata": {},
   "outputs": [
    {
     "data": {
      "text/html": [
       "<div>\n",
       "<style scoped>\n",
       "    .dataframe tbody tr th:only-of-type {\n",
       "        vertical-align: middle;\n",
       "    }\n",
       "\n",
       "    .dataframe tbody tr th {\n",
       "        vertical-align: top;\n",
       "    }\n",
       "\n",
       "    .dataframe thead th {\n",
       "        text-align: right;\n",
       "    }\n",
       "</style>\n",
       "<table border=\"1\" class=\"dataframe\">\n",
       "  <thead>\n",
       "    <tr style=\"text-align: right;\">\n",
       "      <th></th>\n",
       "      <th>GPA</th>\n",
       "      <th>SAT</th>\n",
       "    </tr>\n",
       "  </thead>\n",
       "  <tbody>\n",
       "    <tr>\n",
       "      <th>0</th>\n",
       "      <td>3.4</td>\n",
       "      <td>1270</td>\n",
       "    </tr>\n",
       "    <tr>\n",
       "      <th>1</th>\n",
       "      <td>4.0</td>\n",
       "      <td>1220</td>\n",
       "    </tr>\n",
       "    <tr>\n",
       "      <th>2</th>\n",
       "      <td>3.8</td>\n",
       "      <td>1160</td>\n",
       "    </tr>\n",
       "    <tr>\n",
       "      <th>3</th>\n",
       "      <td>3.8</td>\n",
       "      <td>950</td>\n",
       "    </tr>\n",
       "    <tr>\n",
       "      <th>4</th>\n",
       "      <td>4.0</td>\n",
       "      <td>1070</td>\n",
       "    </tr>\n",
       "    <tr>\n",
       "      <th>...</th>\n",
       "      <td>...</td>\n",
       "      <td>...</td>\n",
       "    </tr>\n",
       "    <tr>\n",
       "      <th>995</th>\n",
       "      <td>3.7</td>\n",
       "      <td>1000</td>\n",
       "    </tr>\n",
       "    <tr>\n",
       "      <th>996</th>\n",
       "      <td>3.3</td>\n",
       "      <td>1080</td>\n",
       "    </tr>\n",
       "    <tr>\n",
       "      <th>997</th>\n",
       "      <td>3.5</td>\n",
       "      <td>1140</td>\n",
       "    </tr>\n",
       "    <tr>\n",
       "      <th>998</th>\n",
       "      <td>2.3</td>\n",
       "      <td>1200</td>\n",
       "    </tr>\n",
       "    <tr>\n",
       "      <th>999</th>\n",
       "      <td>2.7</td>\n",
       "      <td>930</td>\n",
       "    </tr>\n",
       "  </tbody>\n",
       "</table>\n",
       "<p>1000 rows × 2 columns</p>\n",
       "</div>"
      ],
      "text/plain": [
       "     GPA   SAT\n",
       "0    3.4  1270\n",
       "1    4.0  1220\n",
       "2    3.8  1160\n",
       "3    3.8   950\n",
       "4    4.0  1070\n",
       "..   ...   ...\n",
       "995  3.7  1000\n",
       "996  3.3  1080\n",
       "997  3.5  1140\n",
       "998  2.3  1200\n",
       "999  2.7   930\n",
       "\n",
       "[1000 rows x 2 columns]"
      ]
     },
     "execution_count": 210,
     "metadata": {},
     "output_type": "execute_result"
    }
   ],
   "source": [
    "data = pd.read_csv(\"SATData.csv\")\n",
    "data.drop(columns=\"Unnamed: 0\", axis=1, inplace=True)\n",
    "data"
   ]
  },
  {
   "cell_type": "code",
   "execution_count": 211,
   "metadata": {},
   "outputs": [
    {
     "name": "stdout",
     "output_type": "stream",
     "text": [
      "<class 'pandas.core.frame.DataFrame'>\n",
      "RangeIndex: 1000 entries, 0 to 999\n",
      "Data columns (total 2 columns):\n",
      " #   Column  Non-Null Count  Dtype  \n",
      "---  ------  --------------  -----  \n",
      " 0   GPA     1000 non-null   float64\n",
      " 1   SAT     1000 non-null   int64  \n",
      "dtypes: float64(1), int64(1)\n",
      "memory usage: 15.8 KB\n"
     ]
    }
   ],
   "source": [
    "data.info()"
   ]
  },
  {
   "cell_type": "code",
   "execution_count": 212,
   "metadata": {},
   "outputs": [],
   "source": [
    "# Splitting the Data\n",
    "split_index = int(len(data.index) / 2)\n",
    "\n",
    "training_data, testing_data = data.iloc[:split_index], data.iloc[split_index:]"
   ]
  },
  {
   "cell_type": "code",
   "execution_count": 221,
   "metadata": {},
   "outputs": [
    {
     "ename": "KeyboardInterrupt",
     "evalue": "",
     "output_type": "error",
     "traceback": [
      "\u001b[1;31m---------------------------------------------------------------------------\u001b[0m",
      "\u001b[1;31mKeyboardInterrupt\u001b[0m                         Traceback (most recent call last)",
      "Cell \u001b[1;32mIn[221], line 17\u001b[0m\n\u001b[0;32m     14\u001b[0m b \u001b[39m=\u001b[39m SAT_mean \u001b[39m-\u001b[39m (m \u001b[39m*\u001b[39m GPA_mean)\n\u001b[0;32m     16\u001b[0m residual_y \u001b[39m=\u001b[39m []\n\u001b[1;32m---> 17\u001b[0m \u001b[39mfor\u001b[39;00m (col_name, col_val) \u001b[39min\u001b[39;00m training_data\u001b[39m.\u001b[39miterrows():\n\u001b[0;32m     18\u001b[0m     residual_y\u001b[39m.\u001b[39mappend(col_val[\u001b[39m\"\u001b[39m\u001b[39mSAT\u001b[39m\u001b[39m\"\u001b[39m] \u001b[39m-\u001b[39m (m \u001b[39m*\u001b[39m col_val[\u001b[39m\"\u001b[39m\u001b[39mGPA\u001b[39m\u001b[39m\"\u001b[39m] \u001b[39m+\u001b[39m b))\n",
      "File \u001b[1;32mc:\\Users\\vincent\\Documents\\dsvenv\\Lib\\site-packages\\pandas\\core\\frame.py:1410\u001b[0m, in \u001b[0;36mDataFrame.iterrows\u001b[1;34m(self)\u001b[0m\n\u001b[0;32m   1408\u001b[0m columns \u001b[39m=\u001b[39m \u001b[39mself\u001b[39m\u001b[39m.\u001b[39mcolumns\n\u001b[0;32m   1409\u001b[0m klass \u001b[39m=\u001b[39m \u001b[39mself\u001b[39m\u001b[39m.\u001b[39m_constructor_sliced\n\u001b[1;32m-> 1410\u001b[0m \u001b[39mfor\u001b[39;00m k, v \u001b[39min\u001b[39;00m \u001b[39mzip\u001b[39m(\u001b[39mself\u001b[39m\u001b[39m.\u001b[39mindex, \u001b[39mself\u001b[39;49m\u001b[39m.\u001b[39;49mvalues):\n\u001b[0;32m   1411\u001b[0m     s \u001b[39m=\u001b[39m klass(v, index\u001b[39m=\u001b[39mcolumns, name\u001b[39m=\u001b[39mk)\u001b[39m.\u001b[39m__finalize__(\u001b[39mself\u001b[39m)\n\u001b[0;32m   1412\u001b[0m     \u001b[39myield\u001b[39;00m k, s\n",
      "File \u001b[1;32mc:\\Users\\vincent\\Documents\\dsvenv\\Lib\\site-packages\\pandas\\core\\frame.py:11739\u001b[0m, in \u001b[0;36mDataFrame.values\u001b[1;34m(self)\u001b[0m\n\u001b[0;32m  11666\u001b[0m \u001b[39m\u001b[39m\u001b[39m\"\"\"\u001b[39;00m\n\u001b[0;32m  11667\u001b[0m \u001b[39mReturn a Numpy representation of the DataFrame.\u001b[39;00m\n\u001b[0;32m  11668\u001b[0m \n\u001b[1;32m   (...)\u001b[0m\n\u001b[0;32m  11736\u001b[0m \u001b[39m       ['monkey', nan, None]], dtype=object)\u001b[39;00m\n\u001b[0;32m  11737\u001b[0m \u001b[39m\"\"\"\u001b[39;00m\n\u001b[0;32m  11738\u001b[0m \u001b[39mself\u001b[39m\u001b[39m.\u001b[39m_consolidate_inplace()\n\u001b[1;32m> 11739\u001b[0m \u001b[39mreturn\u001b[39;00m \u001b[39mself\u001b[39;49m\u001b[39m.\u001b[39;49m_mgr\u001b[39m.\u001b[39;49mas_array()\n",
      "File \u001b[1;32mc:\\Users\\vincent\\Documents\\dsvenv\\Lib\\site-packages\\pandas\\core\\internals\\managers.py:1770\u001b[0m, in \u001b[0;36mBlockManager.as_array\u001b[1;34m(self, dtype, copy, na_value)\u001b[0m\n\u001b[0;32m   1768\u001b[0m             arr \u001b[39m=\u001b[39m arr\u001b[39m.\u001b[39mastype(dtype, copy\u001b[39m=\u001b[39m\u001b[39mFalse\u001b[39;00m)\n\u001b[0;32m   1769\u001b[0m \u001b[39melse\u001b[39;00m:\n\u001b[1;32m-> 1770\u001b[0m     arr \u001b[39m=\u001b[39m \u001b[39mself\u001b[39;49m\u001b[39m.\u001b[39;49m_interleave(dtype\u001b[39m=\u001b[39;49mdtype, na_value\u001b[39m=\u001b[39;49mna_value)\n\u001b[0;32m   1771\u001b[0m     \u001b[39m# The underlying data was copied within _interleave\u001b[39;00m\n\u001b[0;32m   1772\u001b[0m     copy \u001b[39m=\u001b[39m \u001b[39mFalse\u001b[39;00m\n",
      "File \u001b[1;32mc:\\Users\\vincent\\Documents\\dsvenv\\Lib\\site-packages\\pandas\\core\\internals\\managers.py:1836\u001b[0m, in \u001b[0;36mBlockManager._interleave\u001b[1;34m(self, dtype, na_value)\u001b[0m\n\u001b[0;32m   1834\u001b[0m         arr \u001b[39m=\u001b[39m blk\u001b[39m.\u001b[39mget_values(dtype)\n\u001b[0;32m   1835\u001b[0m     result[rl\u001b[39m.\u001b[39mindexer] \u001b[39m=\u001b[39m arr\n\u001b[1;32m-> 1836\u001b[0m     itemmask[rl\u001b[39m.\u001b[39mindexer] \u001b[39m=\u001b[39m \u001b[39m1\u001b[39m\n\u001b[0;32m   1838\u001b[0m \u001b[39mif\u001b[39;00m \u001b[39mnot\u001b[39;00m itemmask\u001b[39m.\u001b[39mall():\n\u001b[0;32m   1839\u001b[0m     \u001b[39mraise\u001b[39;00m \u001b[39mAssertionError\u001b[39;00m(\u001b[39m\"\u001b[39m\u001b[39mSome items were not contained in blocks\u001b[39m\u001b[39m\"\u001b[39m)\n",
      "\u001b[1;31mKeyboardInterrupt\u001b[0m: "
     ]
    }
   ],
   "source": [
    "# Linear Regression algorithm\n",
    "GPA_mean = training_data[\"GPA\"].mean()\n",
    "GPA_std = training_data[\"GPA\"].std()\n",
    "SAT_mean = training_data[\"SAT\"].mean()\n",
    "SAT_std = training_data[\"SAT\"].std()\n",
    "\n",
    "# Least Squares\n",
    "optimal = False\n",
    "best_equation = {}\n",
    "r = 0.7\n",
    "m, b = (r * (SAT_std / GPA_std)), (SAT_mean - (m * GPA_mean))   # Initial Values\n",
    "while not optimal:\n",
    "    m = r * (SAT_std / GPA_std)\n",
    "    b = SAT_mean - (m * GPA_mean)\n",
    "\n",
    "    residual_y = []\n",
    "    for (col_name, col_val) in training_data.iterrows():\n",
    "        residual_y.append(abs(col_val[\"SAT\"] - (m * col_val[\"GPA\"] + b)))\n",
    "\n",
    "    residual_average = mean(residual_y)\n",
    "    "
   ]
  },
  {
   "cell_type": "code",
   "execution_count": null,
   "metadata": {},
   "outputs": [
    {
     "name": "stdout",
     "output_type": "stream",
     "text": [
      "3.227\n",
      "0.5543153714828087\n",
      "1040.28\n",
      "147.2810409048634\n",
      "185.98930128460594\n",
      "440.09252475457663\n"
     ]
    }
   ],
   "source": [
    "print(GPA_mean)\n",
    "print(GPA_std)\n",
    "print(SAT_mean)\n",
    "print(SAT_std)\n",
    "print(m)\n",
    "print(b)"
   ]
  },
  {
   "cell_type": "code",
   "execution_count": null,
   "metadata": {},
   "outputs": [],
   "source": []
  }
 ],
 "metadata": {
  "kernelspec": {
   "display_name": "dsvenv",
   "language": "python",
   "name": "python3"
  },
  "language_info": {
   "codemirror_mode": {
    "name": "ipython",
    "version": 3
   },
   "file_extension": ".py",
   "mimetype": "text/x-python",
   "name": "python",
   "nbconvert_exporter": "python",
   "pygments_lexer": "ipython3",
   "version": "3.11.1"
  },
  "orig_nbformat": 4,
  "vscode": {
   "interpreter": {
    "hash": "3c02cf175bfcdcd6aa31c50141d5b101dca0ea4c63b2255e424c4faa3dce6fd9"
   }
  }
 },
 "nbformat": 4,
 "nbformat_minor": 2
}
