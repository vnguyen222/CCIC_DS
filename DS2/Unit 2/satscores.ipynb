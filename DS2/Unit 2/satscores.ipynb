{
 "cells": [
  {
   "cell_type": "code",
   "execution_count": 4,
   "metadata": {},
   "outputs": [],
   "source": [
    "import pandas as pd\n",
    "from sklearn.model_selection import train_test_split\n",
    "from sklearn.linear_model import LinearRegression"
   ]
  },
  {
   "cell_type": "code",
   "execution_count": 5,
   "metadata": {},
   "outputs": [
    {
     "data": {
      "text/html": [
       "<div>\n",
       "<style scoped>\n",
       "    .dataframe tbody tr th:only-of-type {\n",
       "        vertical-align: middle;\n",
       "    }\n",
       "\n",
       "    .dataframe tbody tr th {\n",
       "        vertical-align: top;\n",
       "    }\n",
       "\n",
       "    .dataframe thead th {\n",
       "        text-align: right;\n",
       "    }\n",
       "</style>\n",
       "<table border=\"1\" class=\"dataframe\">\n",
       "  <thead>\n",
       "    <tr style=\"text-align: right;\">\n",
       "      <th></th>\n",
       "      <th>GPA</th>\n",
       "      <th>SAT</th>\n",
       "    </tr>\n",
       "  </thead>\n",
       "  <tbody>\n",
       "    <tr>\n",
       "      <th>0</th>\n",
       "      <td>3.4</td>\n",
       "      <td>1270</td>\n",
       "    </tr>\n",
       "    <tr>\n",
       "      <th>1</th>\n",
       "      <td>4.0</td>\n",
       "      <td>1220</td>\n",
       "    </tr>\n",
       "    <tr>\n",
       "      <th>2</th>\n",
       "      <td>3.8</td>\n",
       "      <td>1160</td>\n",
       "    </tr>\n",
       "    <tr>\n",
       "      <th>3</th>\n",
       "      <td>3.8</td>\n",
       "      <td>950</td>\n",
       "    </tr>\n",
       "    <tr>\n",
       "      <th>4</th>\n",
       "      <td>4.0</td>\n",
       "      <td>1070</td>\n",
       "    </tr>\n",
       "    <tr>\n",
       "      <th>...</th>\n",
       "      <td>...</td>\n",
       "      <td>...</td>\n",
       "    </tr>\n",
       "    <tr>\n",
       "      <th>995</th>\n",
       "      <td>3.7</td>\n",
       "      <td>1000</td>\n",
       "    </tr>\n",
       "    <tr>\n",
       "      <th>996</th>\n",
       "      <td>3.3</td>\n",
       "      <td>1080</td>\n",
       "    </tr>\n",
       "    <tr>\n",
       "      <th>997</th>\n",
       "      <td>3.5</td>\n",
       "      <td>1140</td>\n",
       "    </tr>\n",
       "    <tr>\n",
       "      <th>998</th>\n",
       "      <td>2.3</td>\n",
       "      <td>1200</td>\n",
       "    </tr>\n",
       "    <tr>\n",
       "      <th>999</th>\n",
       "      <td>2.7</td>\n",
       "      <td>930</td>\n",
       "    </tr>\n",
       "  </tbody>\n",
       "</table>\n",
       "<p>1000 rows × 2 columns</p>\n",
       "</div>"
      ],
      "text/plain": [
       "     GPA   SAT\n",
       "0    3.4  1270\n",
       "1    4.0  1220\n",
       "2    3.8  1160\n",
       "3    3.8   950\n",
       "4    4.0  1070\n",
       "..   ...   ...\n",
       "995  3.7  1000\n",
       "996  3.3  1080\n",
       "997  3.5  1140\n",
       "998  2.3  1200\n",
       "999  2.7   930\n",
       "\n",
       "[1000 rows x 2 columns]"
      ]
     },
     "execution_count": 5,
     "metadata": {},
     "output_type": "execute_result"
    }
   ],
   "source": [
    "data = pd.read_csv(\"SATData.csv\")\n",
    "data.drop(columns=\"Unnamed: 0\", axis=1, inplace=True)\n",
    "data"
   ]
  },
  {
   "cell_type": "code",
   "execution_count": 6,
   "metadata": {},
   "outputs": [
    {
     "name": "stdout",
     "output_type": "stream",
     "text": [
      "<class 'pandas.core.frame.DataFrame'>\n",
      "RangeIndex: 1000 entries, 0 to 999\n",
      "Data columns (total 2 columns):\n",
      " #   Column  Non-Null Count  Dtype  \n",
      "---  ------  --------------  -----  \n",
      " 0   GPA     1000 non-null   float64\n",
      " 1   SAT     1000 non-null   int64  \n",
      "dtypes: float64(1), int64(1)\n",
      "memory usage: 15.8 KB\n"
     ]
    }
   ],
   "source": [
    "data.info()"
   ]
  },
  {
   "cell_type": "code",
   "execution_count": 16,
   "metadata": {},
   "outputs": [
    {
     "data": {
      "text/plain": [
       "0      1270\n",
       "1      1220\n",
       "2      1160\n",
       "3       950\n",
       "4      1070\n",
       "       ... \n",
       "495     870\n",
       "496     970\n",
       "497    1100\n",
       "498    1100\n",
       "499     940\n",
       "Name: SAT, Length: 500, dtype: int64"
      ]
     },
     "execution_count": 16,
     "metadata": {},
     "output_type": "execute_result"
    }
   ],
   "source": [
    "# Splitting the Data\n",
    "split_index = int(len(data.index) / 2)\n",
    "\n",
    "training_data, testing_data = data.iloc[:split_index], data.iloc[split_index:]\n",
    "\n",
    "X_training, Y_training = training_data[\"GPA\"], training_data[\"SAT\"]"
   ]
  },
  {
   "cell_type": "code",
   "execution_count": 9,
   "metadata": {},
   "outputs": [
    {
     "data": {
      "text/html": [
       "<div>\n",
       "<style scoped>\n",
       "    .dataframe tbody tr th:only-of-type {\n",
       "        vertical-align: middle;\n",
       "    }\n",
       "\n",
       "    .dataframe tbody tr th {\n",
       "        vertical-align: top;\n",
       "    }\n",
       "\n",
       "    .dataframe thead th {\n",
       "        text-align: right;\n",
       "    }\n",
       "</style>\n",
       "<table border=\"1\" class=\"dataframe\">\n",
       "  <thead>\n",
       "    <tr style=\"text-align: right;\">\n",
       "      <th></th>\n",
       "      <th>GPA</th>\n",
       "      <th>SAT</th>\n",
       "    </tr>\n",
       "  </thead>\n",
       "  <tbody>\n",
       "    <tr>\n",
       "      <th>0</th>\n",
       "      <td>3.4</td>\n",
       "      <td>1270</td>\n",
       "    </tr>\n",
       "    <tr>\n",
       "      <th>1</th>\n",
       "      <td>4.0</td>\n",
       "      <td>1220</td>\n",
       "    </tr>\n",
       "    <tr>\n",
       "      <th>2</th>\n",
       "      <td>3.8</td>\n",
       "      <td>1160</td>\n",
       "    </tr>\n",
       "    <tr>\n",
       "      <th>3</th>\n",
       "      <td>3.8</td>\n",
       "      <td>950</td>\n",
       "    </tr>\n",
       "    <tr>\n",
       "      <th>4</th>\n",
       "      <td>4.0</td>\n",
       "      <td>1070</td>\n",
       "    </tr>\n",
       "    <tr>\n",
       "      <th>...</th>\n",
       "      <td>...</td>\n",
       "      <td>...</td>\n",
       "    </tr>\n",
       "    <tr>\n",
       "      <th>495</th>\n",
       "      <td>2.2</td>\n",
       "      <td>870</td>\n",
       "    </tr>\n",
       "    <tr>\n",
       "      <th>496</th>\n",
       "      <td>3.7</td>\n",
       "      <td>970</td>\n",
       "    </tr>\n",
       "    <tr>\n",
       "      <th>497</th>\n",
       "      <td>2.9</td>\n",
       "      <td>1100</td>\n",
       "    </tr>\n",
       "    <tr>\n",
       "      <th>498</th>\n",
       "      <td>3.4</td>\n",
       "      <td>1100</td>\n",
       "    </tr>\n",
       "    <tr>\n",
       "      <th>499</th>\n",
       "      <td>2.6</td>\n",
       "      <td>940</td>\n",
       "    </tr>\n",
       "  </tbody>\n",
       "</table>\n",
       "<p>500 rows × 2 columns</p>\n",
       "</div>"
      ],
      "text/plain": [
       "     GPA   SAT\n",
       "0    3.4  1270\n",
       "1    4.0  1220\n",
       "2    3.8  1160\n",
       "3    3.8   950\n",
       "4    4.0  1070\n",
       "..   ...   ...\n",
       "495  2.2   870\n",
       "496  3.7   970\n",
       "497  2.9  1100\n",
       "498  3.4  1100\n",
       "499  2.6   940\n",
       "\n",
       "[500 rows x 2 columns]"
      ]
     },
     "execution_count": 9,
     "metadata": {},
     "output_type": "execute_result"
    }
   ],
   "source": [
    "training_data"
   ]
  },
  {
   "cell_type": "code",
   "execution_count": 17,
   "metadata": {},
   "outputs": [
    {
     "ename": "ValueError",
     "evalue": "Expected 2D array, got 1D array instead:\narray=[3.4 4.  3.8 3.8 4.  4.  2.8 3.8 4.  2.6 3.8 3.8 2.8 3.8 3.5 3.8 3.2 4.\n 3.8 4.  4.  3.3 3.9 3.5 3.5 2.  4.  2.3 3.5 3.5 4.  3.8 3.  4.  2.8 2.8\n 3.5 3.8 2.  3.8 2.8 3.  2.3 3.5 3.  3.  2.7 3.  3.8 3.1 3.  3.  3.  3.3\n 3.2 3.8 2.5 4.  3.8 3.5 2.9 2.9 2.3 2.8 4.  4.  3.8 4.  3.3 2.7 3.5 3.\n 3.3 2.8 3.  2.5 2.8 3.5 3.3 4.  3.5 3.  3.5 3.8 4.  3.  3.5 4.  4.  3.8\n 3.3 3.8 3.  2.5 4.  3.8 4.  2.7 3.5 3.2 3.5 2.8 3.4 2.8 2.  4.  4.  3.9\n 3.  3.  4.  2.  3.  3.7 4.  3.8 2.5 3.  3.5 4.  4.  3.8 3.5 3.8 3.  2.3\n 3.8 4.  3.8 3.  4.  4.  2.6 2.8 2.5 2.5 3.8 3.5 4.  4.  3.3 3.2 3.8 2.8\n 3.8 4.  3.8 3.8 3.3 3.  3.5 3.  3.  3.5 3.7 2.4 3.5 2.  3.  3.5 4.  4.\n 3.  4.  4.  3.5 4.  2.  3.7 4.  2.8 3.3 3.8 2.8 2.3 3.  2.3 2.5 2.  3.2\n 2.5 2.5 3.  4.  2.5 2.3 2.9 2.8 3.  3.2 3.  3.4 4.  3.5 3.3 3.4 2.8 2.\n 2.3 2.5 3.5 2.3 2.2 2.5 2.  2.5 2.7 2.3 4.  3.  3.8 2.8 3.  4.  2.8 4.\n 2.7 4.  4.  3.  3.  2.6 3.3 4.  3.  4.  4.  3.8 2.8 3.8 3.3 3.8 3.5 2.3\n 2.  3.5 3.3 3.8 3.8 4.  2.8 3.8 3.3 3.7 3.1 3.  3.8 3.  3.  3.8 4.  2.3\n 3.8 2.5 4.  3.  3.3 3.5 4.  3.5 4.  4.  3.5 3.4 3.6 4.  3.  3.4 3.8 4.\n 3.8 4.  3.8 3.  3.  2.2 3.3 3.3 2.8 3.3 2.1 3.4 2.4 3.7 2.7 3.5 3.6 2.5\n 4.  3.3 3.1 2.1 2.8 3.5 3.1 2.9 2.8 4.  2.8 3.3 2.5 2.7 2.3 2.6 2.8 2.8\n 2.5 3.8 2.7 3.3 2.3 3.2 2.9 2.8 3.4 2.5 3.8 3.3 3.2 3.3 2.6 3.1 3.1 3.2\n 3.8 3.3 2.8 3.5 2.2 2.8 3.3 3.  3.7 2.9 2.7 2.8 3.7 3.  3.5 4.  3.8 3.5\n 2.9 3.5 2.8 2.8 3.2 3.2 2.7 3.  2.4 4.  3.  2.1 2.8 2.  2.8 2.9 2.5 3.1\n 2.8 3.1 3.  3.1 3.7 2.9 2.5 3.4 4.  3.8 3.8 3.4 3.5 3.5 3.5 2.7 2.9 2.5\n 2.8 4.  2.7 3.5 4.  2.9 3.2 3.7 2.7 2.7 3.  3.5 3.2 2.8 2.5 2.5 3.3 3.3\n 2.4 3.2 3.  2.6 2.4 3.5 3.7 2.7 3.  3.1 3.2 3.7 3.9 3.8 3.1 2.9 4.  4.\n 2.6 2.9 2.8 3.3 2.7 2.4 2.5 3.4 3.9 3.4 2.5 2.9 3.  2.5 3.8 3.6 2.3 3.4\n 3.5 4.  2.8 2.9 4.  3.7 2.8 2.7 2.5 3.4 3.  3.8 3.7 3.7 3.6 3.4 4.  3.2\n 3.2 2.6 3.9 2.7 2.5 2.6 2.9 2.8 3.7 2.9 3.3 3.8 2.2 3.3 2.7 2.9 2.8 3.8\n 3.3 3.1 2.9 2.8 2.6 2.9 3.5 3.8 2.9 3.3 3.3 3.2 2.9 3.5 3.3 3.4 3.7 2.9\n 2.7 3.8 3.8 3.7 3.8 2.8 4.  4.  2.7 2.2 3.7 2.9 3.4 2.6].\nReshape your data either using array.reshape(-1, 1) if your data has a single feature or array.reshape(1, -1) if it contains a single sample.",
     "output_type": "error",
     "traceback": [
      "\u001b[1;31m---------------------------------------------------------------------------\u001b[0m",
      "\u001b[1;31mValueError\u001b[0m                                Traceback (most recent call last)",
      "Cell \u001b[1;32mIn[17], line 1\u001b[0m\n\u001b[1;32m----> 1\u001b[0m regression \u001b[39m=\u001b[39m LinearRegression()\u001b[39m.\u001b[39;49mfit(X_training, Y_training)\n",
      "File \u001b[1;32mc:\\Users\\vincent\\Documents\\dsvenv\\lib\\site-packages\\sklearn\\linear_model\\_base.py:648\u001b[0m, in \u001b[0;36mLinearRegression.fit\u001b[1;34m(self, X, y, sample_weight)\u001b[0m\n\u001b[0;32m    644\u001b[0m n_jobs_ \u001b[39m=\u001b[39m \u001b[39mself\u001b[39m\u001b[39m.\u001b[39mn_jobs\n\u001b[0;32m    646\u001b[0m accept_sparse \u001b[39m=\u001b[39m \u001b[39mFalse\u001b[39;00m \u001b[39mif\u001b[39;00m \u001b[39mself\u001b[39m\u001b[39m.\u001b[39mpositive \u001b[39melse\u001b[39;00m [\u001b[39m\"\u001b[39m\u001b[39mcsr\u001b[39m\u001b[39m\"\u001b[39m, \u001b[39m\"\u001b[39m\u001b[39mcsc\u001b[39m\u001b[39m\"\u001b[39m, \u001b[39m\"\u001b[39m\u001b[39mcoo\u001b[39m\u001b[39m\"\u001b[39m]\n\u001b[1;32m--> 648\u001b[0m X, y \u001b[39m=\u001b[39m \u001b[39mself\u001b[39;49m\u001b[39m.\u001b[39;49m_validate_data(\n\u001b[0;32m    649\u001b[0m     X, y, accept_sparse\u001b[39m=\u001b[39;49maccept_sparse, y_numeric\u001b[39m=\u001b[39;49m\u001b[39mTrue\u001b[39;49;00m, multi_output\u001b[39m=\u001b[39;49m\u001b[39mTrue\u001b[39;49;00m\n\u001b[0;32m    650\u001b[0m )\n\u001b[0;32m    652\u001b[0m sample_weight \u001b[39m=\u001b[39m _check_sample_weight(\n\u001b[0;32m    653\u001b[0m     sample_weight, X, dtype\u001b[39m=\u001b[39mX\u001b[39m.\u001b[39mdtype, only_non_negative\u001b[39m=\u001b[39m\u001b[39mTrue\u001b[39;00m\n\u001b[0;32m    654\u001b[0m )\n\u001b[0;32m    656\u001b[0m X, y, X_offset, y_offset, X_scale \u001b[39m=\u001b[39m _preprocess_data(\n\u001b[0;32m    657\u001b[0m     X,\n\u001b[0;32m    658\u001b[0m     y,\n\u001b[1;32m   (...)\u001b[0m\n\u001b[0;32m    661\u001b[0m     sample_weight\u001b[39m=\u001b[39msample_weight,\n\u001b[0;32m    662\u001b[0m )\n",
      "File \u001b[1;32mc:\\Users\\vincent\\Documents\\dsvenv\\lib\\site-packages\\sklearn\\base.py:565\u001b[0m, in \u001b[0;36mBaseEstimator._validate_data\u001b[1;34m(self, X, y, reset, validate_separately, **check_params)\u001b[0m\n\u001b[0;32m    563\u001b[0m         y \u001b[39m=\u001b[39m check_array(y, input_name\u001b[39m=\u001b[39m\u001b[39m\"\u001b[39m\u001b[39my\u001b[39m\u001b[39m\"\u001b[39m, \u001b[39m*\u001b[39m\u001b[39m*\u001b[39mcheck_y_params)\n\u001b[0;32m    564\u001b[0m     \u001b[39melse\u001b[39;00m:\n\u001b[1;32m--> 565\u001b[0m         X, y \u001b[39m=\u001b[39m check_X_y(X, y, \u001b[39m*\u001b[39m\u001b[39m*\u001b[39mcheck_params)\n\u001b[0;32m    566\u001b[0m     out \u001b[39m=\u001b[39m X, y\n\u001b[0;32m    568\u001b[0m \u001b[39mif\u001b[39;00m \u001b[39mnot\u001b[39;00m no_val_X \u001b[39mand\u001b[39;00m check_params\u001b[39m.\u001b[39mget(\u001b[39m\"\u001b[39m\u001b[39mensure_2d\u001b[39m\u001b[39m\"\u001b[39m, \u001b[39mTrue\u001b[39;00m):\n",
      "File \u001b[1;32mc:\\Users\\vincent\\Documents\\dsvenv\\lib\\site-packages\\sklearn\\utils\\validation.py:1106\u001b[0m, in \u001b[0;36mcheck_X_y\u001b[1;34m(X, y, accept_sparse, accept_large_sparse, dtype, order, copy, force_all_finite, ensure_2d, allow_nd, multi_output, ensure_min_samples, ensure_min_features, y_numeric, estimator)\u001b[0m\n\u001b[0;32m   1101\u001b[0m         estimator_name \u001b[39m=\u001b[39m _check_estimator_name(estimator)\n\u001b[0;32m   1102\u001b[0m     \u001b[39mraise\u001b[39;00m \u001b[39mValueError\u001b[39;00m(\n\u001b[0;32m   1103\u001b[0m         \u001b[39mf\u001b[39m\u001b[39m\"\u001b[39m\u001b[39m{\u001b[39;00mestimator_name\u001b[39m}\u001b[39;00m\u001b[39m requires y to be passed, but the target y is None\u001b[39m\u001b[39m\"\u001b[39m\n\u001b[0;32m   1104\u001b[0m     )\n\u001b[1;32m-> 1106\u001b[0m X \u001b[39m=\u001b[39m check_array(\n\u001b[0;32m   1107\u001b[0m     X,\n\u001b[0;32m   1108\u001b[0m     accept_sparse\u001b[39m=\u001b[39;49maccept_sparse,\n\u001b[0;32m   1109\u001b[0m     accept_large_sparse\u001b[39m=\u001b[39;49maccept_large_sparse,\n\u001b[0;32m   1110\u001b[0m     dtype\u001b[39m=\u001b[39;49mdtype,\n\u001b[0;32m   1111\u001b[0m     order\u001b[39m=\u001b[39;49morder,\n\u001b[0;32m   1112\u001b[0m     copy\u001b[39m=\u001b[39;49mcopy,\n\u001b[0;32m   1113\u001b[0m     force_all_finite\u001b[39m=\u001b[39;49mforce_all_finite,\n\u001b[0;32m   1114\u001b[0m     ensure_2d\u001b[39m=\u001b[39;49mensure_2d,\n\u001b[0;32m   1115\u001b[0m     allow_nd\u001b[39m=\u001b[39;49mallow_nd,\n\u001b[0;32m   1116\u001b[0m     ensure_min_samples\u001b[39m=\u001b[39;49mensure_min_samples,\n\u001b[0;32m   1117\u001b[0m     ensure_min_features\u001b[39m=\u001b[39;49mensure_min_features,\n\u001b[0;32m   1118\u001b[0m     estimator\u001b[39m=\u001b[39;49mestimator,\n\u001b[0;32m   1119\u001b[0m     input_name\u001b[39m=\u001b[39;49m\u001b[39m\"\u001b[39;49m\u001b[39mX\u001b[39;49m\u001b[39m\"\u001b[39;49m,\n\u001b[0;32m   1120\u001b[0m )\n\u001b[0;32m   1122\u001b[0m y \u001b[39m=\u001b[39m _check_y(y, multi_output\u001b[39m=\u001b[39mmulti_output, y_numeric\u001b[39m=\u001b[39my_numeric, estimator\u001b[39m=\u001b[39mestimator)\n\u001b[0;32m   1124\u001b[0m check_consistent_length(X, y)\n",
      "File \u001b[1;32mc:\\Users\\vincent\\Documents\\dsvenv\\lib\\site-packages\\sklearn\\utils\\validation.py:902\u001b[0m, in \u001b[0;36mcheck_array\u001b[1;34m(array, accept_sparse, accept_large_sparse, dtype, order, copy, force_all_finite, ensure_2d, allow_nd, ensure_min_samples, ensure_min_features, estimator, input_name)\u001b[0m\n\u001b[0;32m    900\u001b[0m     \u001b[39m# If input is 1D raise error\u001b[39;00m\n\u001b[0;32m    901\u001b[0m     \u001b[39mif\u001b[39;00m array\u001b[39m.\u001b[39mndim \u001b[39m==\u001b[39m \u001b[39m1\u001b[39m:\n\u001b[1;32m--> 902\u001b[0m         \u001b[39mraise\u001b[39;00m \u001b[39mValueError\u001b[39;00m(\n\u001b[0;32m    903\u001b[0m             \u001b[39m\"\u001b[39m\u001b[39mExpected 2D array, got 1D array instead:\u001b[39m\u001b[39m\\n\u001b[39;00m\u001b[39marray=\u001b[39m\u001b[39m{}\u001b[39;00m\u001b[39m.\u001b[39m\u001b[39m\\n\u001b[39;00m\u001b[39m\"\u001b[39m\n\u001b[0;32m    904\u001b[0m             \u001b[39m\"\u001b[39m\u001b[39mReshape your data either using array.reshape(-1, 1) if \u001b[39m\u001b[39m\"\u001b[39m\n\u001b[0;32m    905\u001b[0m             \u001b[39m\"\u001b[39m\u001b[39myour data has a single feature or array.reshape(1, -1) \u001b[39m\u001b[39m\"\u001b[39m\n\u001b[0;32m    906\u001b[0m             \u001b[39m\"\u001b[39m\u001b[39mif it contains a single sample.\u001b[39m\u001b[39m\"\u001b[39m\u001b[39m.\u001b[39mformat(array)\n\u001b[0;32m    907\u001b[0m         )\n\u001b[0;32m    909\u001b[0m \u001b[39mif\u001b[39;00m dtype_numeric \u001b[39mand\u001b[39;00m array\u001b[39m.\u001b[39mdtype\u001b[39m.\u001b[39mkind \u001b[39min\u001b[39;00m \u001b[39m\"\u001b[39m\u001b[39mUSV\u001b[39m\u001b[39m\"\u001b[39m:\n\u001b[0;32m    910\u001b[0m     \u001b[39mraise\u001b[39;00m \u001b[39mValueError\u001b[39;00m(\n\u001b[0;32m    911\u001b[0m         \u001b[39m\"\u001b[39m\u001b[39mdtype=\u001b[39m\u001b[39m'\u001b[39m\u001b[39mnumeric\u001b[39m\u001b[39m'\u001b[39m\u001b[39m is not compatible with arrays of bytes/strings.\u001b[39m\u001b[39m\"\u001b[39m\n\u001b[0;32m    912\u001b[0m         \u001b[39m\"\u001b[39m\u001b[39mConvert your data to numeric values explicitly instead.\u001b[39m\u001b[39m\"\u001b[39m\n\u001b[0;32m    913\u001b[0m     )\n",
      "\u001b[1;31mValueError\u001b[0m: Expected 2D array, got 1D array instead:\narray=[3.4 4.  3.8 3.8 4.  4.  2.8 3.8 4.  2.6 3.8 3.8 2.8 3.8 3.5 3.8 3.2 4.\n 3.8 4.  4.  3.3 3.9 3.5 3.5 2.  4.  2.3 3.5 3.5 4.  3.8 3.  4.  2.8 2.8\n 3.5 3.8 2.  3.8 2.8 3.  2.3 3.5 3.  3.  2.7 3.  3.8 3.1 3.  3.  3.  3.3\n 3.2 3.8 2.5 4.  3.8 3.5 2.9 2.9 2.3 2.8 4.  4.  3.8 4.  3.3 2.7 3.5 3.\n 3.3 2.8 3.  2.5 2.8 3.5 3.3 4.  3.5 3.  3.5 3.8 4.  3.  3.5 4.  4.  3.8\n 3.3 3.8 3.  2.5 4.  3.8 4.  2.7 3.5 3.2 3.5 2.8 3.4 2.8 2.  4.  4.  3.9\n 3.  3.  4.  2.  3.  3.7 4.  3.8 2.5 3.  3.5 4.  4.  3.8 3.5 3.8 3.  2.3\n 3.8 4.  3.8 3.  4.  4.  2.6 2.8 2.5 2.5 3.8 3.5 4.  4.  3.3 3.2 3.8 2.8\n 3.8 4.  3.8 3.8 3.3 3.  3.5 3.  3.  3.5 3.7 2.4 3.5 2.  3.  3.5 4.  4.\n 3.  4.  4.  3.5 4.  2.  3.7 4.  2.8 3.3 3.8 2.8 2.3 3.  2.3 2.5 2.  3.2\n 2.5 2.5 3.  4.  2.5 2.3 2.9 2.8 3.  3.2 3.  3.4 4.  3.5 3.3 3.4 2.8 2.\n 2.3 2.5 3.5 2.3 2.2 2.5 2.  2.5 2.7 2.3 4.  3.  3.8 2.8 3.  4.  2.8 4.\n 2.7 4.  4.  3.  3.  2.6 3.3 4.  3.  4.  4.  3.8 2.8 3.8 3.3 3.8 3.5 2.3\n 2.  3.5 3.3 3.8 3.8 4.  2.8 3.8 3.3 3.7 3.1 3.  3.8 3.  3.  3.8 4.  2.3\n 3.8 2.5 4.  3.  3.3 3.5 4.  3.5 4.  4.  3.5 3.4 3.6 4.  3.  3.4 3.8 4.\n 3.8 4.  3.8 3.  3.  2.2 3.3 3.3 2.8 3.3 2.1 3.4 2.4 3.7 2.7 3.5 3.6 2.5\n 4.  3.3 3.1 2.1 2.8 3.5 3.1 2.9 2.8 4.  2.8 3.3 2.5 2.7 2.3 2.6 2.8 2.8\n 2.5 3.8 2.7 3.3 2.3 3.2 2.9 2.8 3.4 2.5 3.8 3.3 3.2 3.3 2.6 3.1 3.1 3.2\n 3.8 3.3 2.8 3.5 2.2 2.8 3.3 3.  3.7 2.9 2.7 2.8 3.7 3.  3.5 4.  3.8 3.5\n 2.9 3.5 2.8 2.8 3.2 3.2 2.7 3.  2.4 4.  3.  2.1 2.8 2.  2.8 2.9 2.5 3.1\n 2.8 3.1 3.  3.1 3.7 2.9 2.5 3.4 4.  3.8 3.8 3.4 3.5 3.5 3.5 2.7 2.9 2.5\n 2.8 4.  2.7 3.5 4.  2.9 3.2 3.7 2.7 2.7 3.  3.5 3.2 2.8 2.5 2.5 3.3 3.3\n 2.4 3.2 3.  2.6 2.4 3.5 3.7 2.7 3.  3.1 3.2 3.7 3.9 3.8 3.1 2.9 4.  4.\n 2.6 2.9 2.8 3.3 2.7 2.4 2.5 3.4 3.9 3.4 2.5 2.9 3.  2.5 3.8 3.6 2.3 3.4\n 3.5 4.  2.8 2.9 4.  3.7 2.8 2.7 2.5 3.4 3.  3.8 3.7 3.7 3.6 3.4 4.  3.2\n 3.2 2.6 3.9 2.7 2.5 2.6 2.9 2.8 3.7 2.9 3.3 3.8 2.2 3.3 2.7 2.9 2.8 3.8\n 3.3 3.1 2.9 2.8 2.6 2.9 3.5 3.8 2.9 3.3 3.3 3.2 2.9 3.5 3.3 3.4 3.7 2.9\n 2.7 3.8 3.8 3.7 3.8 2.8 4.  4.  2.7 2.2 3.7 2.9 3.4 2.6].\nReshape your data either using array.reshape(-1, 1) if your data has a single feature or array.reshape(1, -1) if it contains a single sample."
     ]
    }
   ],
   "source": [
    "regression = LinearRegression().fit(X_training, Y_training)"
   ]
  }
 ],
 "metadata": {
  "kernelspec": {
   "display_name": "dsvenv",
   "language": "python",
   "name": "python3"
  },
  "language_info": {
   "codemirror_mode": {
    "name": "ipython",
    "version": 3
   },
   "file_extension": ".py",
   "mimetype": "text/x-python",
   "name": "python",
   "nbconvert_exporter": "python",
   "pygments_lexer": "ipython3",
   "version": "3.10.10"
  },
  "orig_nbformat": 4,
  "vscode": {
   "interpreter": {
    "hash": "3c02cf175bfcdcd6aa31c50141d5b101dca0ea4c63b2255e424c4faa3dce6fd9"
   }
  }
 },
 "nbformat": 4,
 "nbformat_minor": 2
}
