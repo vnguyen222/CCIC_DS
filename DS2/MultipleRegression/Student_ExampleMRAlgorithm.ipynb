{
  "cells": [
    {
      "cell_type": "code",
      "execution_count": 1,
      "metadata": {
        "id": "RpFuC5kVVlgC"
      },
      "outputs": [],
      "source": [
        "import pandas as pd\n",
        "from random import random\n",
        "import math"
      ]
    },
    {
      "cell_type": "code",
      "execution_count": 2,
      "metadata": {
        "id": "MJ5Y3nnTV1kG"
      },
      "outputs": [
        {
          "name": "stdout",
          "output_type": "stream",
          "text": [
            "<class 'pandas.core.frame.DataFrame'>\n",
            "RangeIndex: 3536 entries, 0 to 3535\n",
            "Data columns (total 5 columns):\n",
            " #   Column      Non-Null Count  Dtype  \n",
            "---  ------      --------------  -----  \n",
            " 0   Unnamed: 0  3536 non-null   int64  \n",
            " 1   rent        3536 non-null   float64\n",
            " 2   bedrooms    3536 non-null   float64\n",
            " 3   bathrooms   3536 non-null   float64\n",
            " 4   size_sqft   3536 non-null   float64\n",
            "dtypes: float64(4), int64(1)\n",
            "memory usage: 138.2 KB\n"
          ]
        }
      ],
      "source": [
        "# Read in data and remove weird Unnamed column\n",
        "df = pd.read_csv(\"wrangledNYC.csv\")\n",
        "# df.drop(\"Unnamed: 0\", axis=1, inplace=True)\n",
        "df.info()"
      ]
    },
    {
      "cell_type": "code",
      "execution_count": 3,
      "metadata": {
        "id": "R9RzMSzMV6KB"
      },
      "outputs": [],
      "source": [
        "# Test/Train Split\n",
        "length = len(df.index)\n",
        "splitHere = int(length * 0.7)\n",
        "train = df[0:splitHere]\n",
        "test = df[splitHere:length]"
      ]
    },
    {
      "cell_type": "code",
      "execution_count": 4,
      "metadata": {
        "id": "EWyDxPfaWB2_"
      },
      "outputs": [],
      "source": [
        "# Training Algorithm:  \n",
        "# Reminder --> Standard equation for 3 features: ax + by + cz + d = 0\n",
        "def trainMRModel(trainDF, iterations):\n",
        "  '''\n",
        "  Pseudocode Algorithm:\n",
        "  1. Naively choose starting weights for initial model. This is model A.\n",
        "  2. Calculate the distance between data and model A.\n",
        "  3. Randomly generate steps to take when generating model B from current model A.\n",
        "    - if distance of model B is less than model A, replace model A with model B.\n",
        "    - elif distance of model B is NOT less than model A after 50 tries of randomly stepping, keep model A.\n",
        "  4. Repeat step 3 for desired number of iterations.\n",
        "  '''\n",
        "  \n",
        "  # Initialize naive model A\n",
        "  modelA = [0.5, 0.5, 0.5, 0.5] # [a, b, c, d]\n",
        "\n",
        "  distanceA = calculateDistance(trainDF, modelA)\n",
        "  print(\"First model - weights: \", modelA, \" distance: \", distanceA)\n",
        "  \n",
        "  modelB = modelA[:] # make a copy of model A -> 'modelB = modelA' just references original model A\n",
        "  \n",
        "  # Randomly take steps for desired iterations\n",
        "  for i in range(iterations):\n",
        "    modelB = take_best_step(trainDF, modelB)\n",
        "  \n",
        "  # Calculate distance of best model found\n",
        "  distanceB = calculateDistance(trainDF, modelB)\n",
        "  print(\"Final model - weights: \", modelB, \" distance: \", distanceB)\n",
        "  return modelB"
      ]
    },
    {
      "cell_type": "code",
      "execution_count": 5,
      "metadata": {
        "id": "uYiklia7kUQC"
      },
      "outputs": [],
      "source": [
        "# Helper functions\n",
        "def take_random_step(model):\n",
        "  return [\n",
        "      model[0] + (random() - 0.5), # Subtract off 0.5 to generate negative and positive steps\n",
        "      model[1] + (random() - 0.5),\n",
        "      model[2] + (random() - 0.5),\n",
        "      model[3] + (random() - 0.5)\n",
        "  ]\n",
        "\n",
        "def take_best_step(trainDF, model):\n",
        "  old_distance = calculateDistance(trainDF, model)\n",
        "  for i in range(50): # try 50 times; if we fail to improve, return the old model\n",
        "    new_model = take_random_step(model)\n",
        "    new_distance = calculateDistance(trainDF, new_model)\n",
        "    if new_distance < old_distance:\n",
        "      return new_model\n",
        "  return model # by default, return the old model\n",
        "\n",
        "def calculateDistance(trainDF, model):\n",
        "  sum = 0\n",
        "  for i in range(len(trainDF.index[:10])):\n",
        "    # Get data points\n",
        "    bed = trainDF.iat[i, 1]\n",
        "    bath = trainDF.iat[i, 2]\n",
        "    sqft = trainDF.iat[i, 3]\n",
        "\n",
        "    # Get coefficients\n",
        "    a = model[0]\n",
        "    b = model[1]\n",
        "    c = model[2]\n",
        "    d = model[3]\n",
        "\n",
        "    # Calculate distance using formula: https://i.ytimg.com/vi/zWMTTRJ0l4w/maxresdefault.jpg\n",
        "    numerator = abs((a * bed) + (b * bath) + (c * sqft) + d)\n",
        "    denominator = math.sqrt((a * a) + (b * b) + (c * c ) + (d * d))\n",
        "    distance = numerator / denominator\n",
        "    sum = sum + distance\n",
        " \n",
        "  return sum"
      ]
    },
    {
      "cell_type": "code",
      "execution_count": 6,
      "metadata": {
        "colab": {
          "base_uri": "https://localhost:8080/"
        },
        "id": "MQx4SmoUdlhe",
        "outputId": "7120b2d1-c6b7-4f29-cf0e-11e19d1214e4"
      },
      "outputs": [
        {
          "name": "stdout",
          "output_type": "stream",
          "text": [
            "First model - weights:  [0.5, 0.5, 0.5, 0.5]  distance:  9.00494652411\n",
            "Final model - weights:  [-0.45857702147596036, -1.3734681244477494, 2.6744393363323473, -0.18362398106048428]  distance:  0.3269973962166629\n"
          ]
        }
      ],
      "source": [
        "model = trainMRModel(train, 10000)"
      ]
    },
    {
      "cell_type": "code",
      "execution_count": 7,
      "metadata": {},
      "outputs": [
        {
          "data": {
            "text/plain": [
              "[-0.45857702147596036,\n",
              " -1.3734681244477494,\n",
              " 2.6744393363323473,\n",
              " -0.18362398106048428]"
            ]
          },
          "execution_count": 7,
          "metadata": {},
          "output_type": "execute_result"
        }
      ],
      "source": [
        "model"
      ]
    },
    {
      "cell_type": "code",
      "execution_count": null,
      "metadata": {},
      "outputs": [],
      "source": []
    }
  ],
  "metadata": {
    "colab": {
      "provenance": []
    },
    "kernelspec": {
      "display_name": "dsvenv",
      "language": "python",
      "name": "python3"
    },
    "language_info": {
      "codemirror_mode": {
        "name": "ipython",
        "version": 3
      },
      "file_extension": ".py",
      "mimetype": "text/x-python",
      "name": "python",
      "nbconvert_exporter": "python",
      "pygments_lexer": "ipython3",
      "version": "3.10.10"
    },
    "vscode": {
      "interpreter": {
        "hash": "3c02cf175bfcdcd6aa31c50141d5b101dca0ea4c63b2255e424c4faa3dce6fd9"
      }
    }
  },
  "nbformat": 4,
  "nbformat_minor": 0
}
