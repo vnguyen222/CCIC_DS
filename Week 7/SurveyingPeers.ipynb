{
 "cells": [
  {
   "cell_type": "code",
   "execution_count": 4,
   "metadata": {},
   "outputs": [],
   "source": [
    "data = [[\"Computer-related\", 2023, \"Programming\", \"Python, HTML/CSS\", \"Python\", \"\"]]"
   ]
  },
  {
   "cell_type": "code",
   "execution_count": 5,
   "metadata": {},
   "outputs": [
    {
     "name": "stdout",
     "output_type": "stream",
     "text": [
      "Computer-related\n",
      "*******\n",
      "Social Studies\n",
      "*\n",
      "Mathematics\n",
      "****\n",
      "Science\n",
      "*\n"
     ]
    }
   ],
   "source": [
    "classes = [\"Computer-related\",\n",
    "\"Computer-related\",\n",
    "\"Social Studies\",\n",
    "\"Mathematics\",\n",
    "\"Science\",\n",
    "\"Mathematics\",\n",
    "\"Computer-related\",\n",
    "\"Mathematics\",\n",
    "\"Computer-related\",\n",
    "\"Computer-related\",\n",
    "\"Computer-related\",\n",
    "\"Computer-related\",\n",
    "\"Mathematics\"]\n",
    "\n",
    "response_count = {}\n",
    "\n",
    "for response in classes:\n",
    "    if response in response_count:\n",
    "        response_count[response] += 1\n",
    "    else:\n",
    "        response_count[response] = 1\n",
    "\n",
    "for key, value in response_count.items():\n",
    "    print(key)\n",
    "    print(\"*\" * value)"
   ]
  },
  {
   "cell_type": "code",
   "execution_count": null,
   "metadata": {},
   "outputs": [],
   "source": []
  }
 ],
 "metadata": {
  "kernelspec": {
   "display_name": "Python 3.10.7 64-bit",
   "language": "python",
   "name": "python3"
  },
  "language_info": {
   "codemirror_mode": {
    "name": "ipython",
    "version": 3
   },
   "file_extension": ".py",
   "mimetype": "text/x-python",
   "name": "python",
   "nbconvert_exporter": "python",
   "pygments_lexer": "ipython3",
   "version": "3.10.7"
  },
  "orig_nbformat": 4,
  "vscode": {
   "interpreter": {
    "hash": "e7370f93d1d0cde622a1f8e1c04877d8463912d04d973331ad4851f04de6915a"
   }
  }
 },
 "nbformat": 4,
 "nbformat_minor": 2
}
